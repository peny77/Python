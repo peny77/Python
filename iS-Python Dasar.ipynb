{
 "cells": [
  {
   "cell_type": "markdown",
   "metadata": {},
   "source": [
    "# Dasar Pemrograman Python"
   ]
  },
  {
   "cell_type": "markdown",
   "metadata": {},
   "source": [
    "`Peny Ismail` *Belajar saja* "
   ]
  },
  {
   "cell_type": "markdown",
   "metadata": {},
   "source": [
    "> `Python` adalah bahasa pemrograman multifungsi yang dibuat oleh `Guido van Rossum` dan dirilis pada tahun 1991. Python  menjadi interpreter yang memiliki kemampuan penanganan kesalahan `(exception handling)` dan mengutamakan sintaksis yang mudah dibaca serta dimengerti `(readability)`. Selain itu Python didesain untuk memudahkan dalam prototyping dan menjadi bahasa yang sangat mudah dipahami dan fleksibel.\n",
    ">> Penggunaan titik koma atau semicolon (;) tidak wajib di Python dan penggunaan semicolon cenderung dianggap bukan cara khas Python (non-pythonic way), meskipun tetap dapat digunakan untuk memisahkan dua statement dalam baris yang sama.\n",
    "</p>\n",
    "\n"
   ]
  },
  {
   "cell_type": "code",
   "execution_count": 1,
   "metadata": {},
   "outputs": [
    {
     "name": "stdout",
     "output_type": "stream",
     "text": [
      "Dasar Pemrograman\n",
      "Python\n"
     ]
    }
   ],
   "source": [
    "print('Dasar Pemrograman'); print('Python')"
   ]
  },
  {
   "cell_type": "markdown",
   "metadata": {},
   "source": [
    "> Python juga memilih untuk mengadopsi dynamic typing secara opsional, yakni variabel yang dibuat tidak akan diketahui tipenya hingga ia dipanggil pertama kali atau dieksekusi, tidak perlu deklarasi variabel (meskipun dimungkinkan), dan memungkinkan tipe data berubah dalam proses eksekusi program"
   ]
  },
  {
   "cell_type": "markdown",
   "metadata": {},
   "source": [
    "> Python 3.0 adalah versi perubahan mayor yang dirilis pada Desember 2008, yang didesain sebagai versi yang tidak backward-compatible dengan versi-versi sebelumnya. Beberapa sintaksis/statement yang sebelumnya berjalan di versi 2.x, kini tidak lagi berjalan. Semua hal ini didasarkan pada keinginan bahasa Python yang kembali ke “inti”, yakni `readable`, `consistent` & `explicit`. Contohnya, fungsi print yang sebelumnya adalah statement di python 2.x, menjadi function di python 3.x.\n",
    ">> Lebih jauh tentang Python 3.0 http://docs.python.org/release/3.0.1/whatsnew/3.0.html\n"
   ]
  },
  {
   "cell_type": "markdown",
   "metadata": {},
   "source": [
    "## Mengapa Python?"
   ]
  },
  {
   "cell_type": "markdown",
   "metadata": {},
   "source": [
    "> Python dapat digunakan dalam mengakomodasi berbagai gaya pemrograman, termasuk structured, prosedural, berorientasi-objek, maupun fungsional. Python juga dapat berjalan pada berbagai sistem operasi yang tersedia. Beberapa pemanfaatan bahasa Python di antaranya:\n",
    ">>\n",
    "1.\tWeb development (server-side),\n",
    "2.\tSoftware development,\n",
    "3.\tMathematics & data science,\n",
    "4.\tMachine learning,\n",
    "5.\tSystem scripting.\n",
    "6.\tInternet of Things (IoT) development.\n"
   ]
  },
  {
   "cell_type": "markdown",
   "metadata": {},
   "source": [
    "> Untuk memastikan python sudah terinstal atau memeriksa versi python yang terinstal, silakan menuliskan perintah berikut:"
   ]
  },
  {
   "cell_type": "markdown",
   "metadata": {},
   "source": [
    "--version"
   ]
  },
  {
   "cell_type": "markdown",
   "metadata": {},
   "source": [
    "> `RunnableExample:` Calculator"
   ]
  },
  {
   "cell_type": "code",
   "execution_count": 12,
   "metadata": {},
   "outputs": [
    {
     "name": "stdout",
     "output_type": "stream",
     "text": [
      "49\n",
      "14\n",
      "823543\n"
     ]
    }
   ],
   "source": [
    "print(7*7)\n",
    "print(7+7)\n",
    "print(7**7)"
   ]
  },
  {
   "cell_type": "code",
   "execution_count": 14,
   "metadata": {},
   "outputs": [
    {
     "name": "stdout",
     "output_type": "stream",
     "text": [
      "C:\\Users\\iS\n"
     ]
    }
   ],
   "source": [
    "import os\n",
    "print(os.getcwd())"
   ]
  },
  {
   "cell_type": "markdown",
   "metadata": {},
   "source": [
    "> Alternatif yang lain, Kita dapat menggunakan tools online untuk menjalankan kode-kode Python. beberapa yang umum digunakan di industri antara lain `glot.io,` `REPL.it,` `ideone.com,` dan `Google Colab.`"
   ]
  },
  {
   "cell_type": "markdown",
   "metadata": {},
   "source": [
    "### Indentasi"
   ]
  },
  {
   "cell_type": "markdown",
   "metadata": {},
   "source": [
    "> Gunakan 4 spasi pada setiap tingkatan indentasi.<br>\n",
    "Python menggunakan indentasi untuk menulis kode bertingkat. Bahasa lain mungkin menggunakan statement tertentu `(Begin, end - pascal),` perbedaan baris atau kurung kurawal. Statement yang memiliki indentasi yang sama dan diletakkan secara berurutan dikenali sebagai blok statement oleh Python dan akan dijalankan secara berurutan."
   ]
  },
  {
   "cell_type": "code",
   "execution_count": null,
   "metadata": {},
   "outputs": [],
   "source": [
    "Statement tingkat 1:\n",
    "    Statement tingkat 2()\n",
    "    Statement tingkat 2 yang kedua()"
   ]
  },
  {
   "cell_type": "markdown",
   "metadata": {},
   "source": [
    "### Beberapa panduan dalam menggunakan hanging indent dalam penulisan kode python "
   ]
  },
  {
   "cell_type": "markdown",
   "metadata": {},
   "source": [
    "> Rata kiri dengan kurung atau pemisah dengan argumen utama"
   ]
  },
  {
   "cell_type": "code",
   "execution_count": null,
   "metadata": {},
   "outputs": [],
   "source": [
    "foo = nama_fungsi(var_satu, var_dua,\n",
    "                 var_tiga, var_empat)"
   ]
  },
  {
   "cell_type": "markdown",
   "metadata": {},
   "source": [
    "> Tambahkan `indentasi ekstra - (level indentasi baru)` untuk memisahkan parameter/argument dari bagian lainnya"
   ]
  },
  {
   "cell_type": "code",
   "execution_count": 19,
   "metadata": {},
   "outputs": [],
   "source": [
    "def nama_fungsi(\n",
    "    var_satu, var_dua, var_tiga, \n",
    "    var_empat):\n",
    "    print(var_satu)"
   ]
  },
  {
   "cell_type": "markdown",
   "metadata": {},
   "source": [
    "> Hanging indents dengan penambahan level indentasi saja"
   ]
  },
  {
   "cell_type": "code",
   "execution_count": null,
   "metadata": {},
   "outputs": [],
   "source": [
    "foo = nama_fungsi(\n",
    "    var_satu, var_dua,\n",
    "    var_tiga, var_empat)"
   ]
  },
  {
   "cell_type": "markdown",
   "metadata": {},
   "source": [
    "> Hanging indents *boleh* menggunakan selain 4 spasi"
   ]
  },
  {
   "cell_type": "code",
   "execution_count": null,
   "metadata": {},
   "outputs": [],
   "source": [
    "foo = nama_fungsi(\n",
    "    var_satu, var_dua,\n",
    "    var_tiga, var_empat)"
   ]
  },
  {
   "cell_type": "markdown",
   "metadata": {},
   "source": [
    "### Kondisional (If)"
   ]
  },
  {
   "cell_type": "markdown",
   "metadata": {},
   "source": [
    "> Saat menulis pernyataan kondisional, misalnya IF, kita juga menemukan penulisan yang terkadang tidak cukup dituliskan dalam satu baris, atau menggunakan beberapa operand yang akan menyulitkan apabila digabung berturut-turut."
   ]
  },
  {
   "cell_type": "markdown",
   "metadata": {},
   "source": [
    "> Contoh kondisi visual yang tidak diubah/tanpa indentasi"
   ]
  },
  {
   "cell_type": "code",
   "execution_count": null,
   "metadata": {},
   "outputs": [],
   "source": [
    "if (sebuah kondisi dan\n",
    "   kondisi yang lain):\n",
    "    # Mengingat keduanya benar, lakukan hal berikut\n",
    "    lakukanSesuatu()"
   ]
  },
  {
   "cell_type": "markdown",
   "metadata": {},
   "source": [
    "> Tambahkan ekstra indentasi pada baris lanjutan"
   ]
  },
  {
   "cell_type": "code",
   "execution_count": null,
   "metadata": {},
   "outputs": [],
   "source": [
    "if (sebuah kondisi dan\n",
    "       kondisi yang lain):\n",
    "    lakukanSesuatu()"
   ]
  },
  {
   "cell_type": "markdown",
   "metadata": {},
   "source": [
    "### Kurung/siku penutup"
   ]
  },
  {
   "cell_type": "code",
   "execution_count": 2,
   "metadata": {},
   "outputs": [
    {
     "name": "stdout",
     "output_type": "stream",
     "text": [
      "[1, 2, 3, 4, 5, 6]\n"
     ]
    }
   ],
   "source": [
    "my_list = [\n",
    "    1, 2, 3,\n",
    "    4, 5, 6\n",
    "]\n",
    "print(my_list)"
   ]
  },
  {
   "cell_type": "code",
   "execution_count": 3,
   "metadata": {},
   "outputs": [
    {
     "name": "stdout",
     "output_type": "stream",
     "text": [
      "('a', 'b', 'c', 'd', 'e', 'f')\n"
     ]
    }
   ],
   "source": [
    "argumen_fungsi=(\n",
    "    'a','b','c',\n",
    "    'd','e','f'\n",
    ")\n",
    "print(argumen_fungsi)"
   ]
  },
  {
   "cell_type": "markdown",
   "metadata": {},
   "source": [
    "> Batasi panjang kode setiap baris hingga `79 karakter.` Untuk komentar atau dokumentasi, usahakan untuk tidak melebihi 72 karakter. Panjang kode setiap baris yang dibatasi akan memudahkan Kita jika menggunakan code review tools yang menunjukkan dua versi berbeda secara berdampingan.\n",
    "`Mengapa 79?` Hal ini dicontohkan pada editor-editor dengan window-width yang terset pada 80 karakter. 1 karakter tersisa bisa berupa `marker glyph atau whitespace.` Pembatasan 79 karakter ini membuat editor terkecil sekalipun tidak akan merusak struktur dan keterbacaan kode.\n",
    ">> `Catatan:` Python Standard Library selalu dikembangkan secara konservatif dan mempertahankan standar 79 karakter pada kode, dan 72 pada komentar/dokumentasi."
   ]
  },
  {
   "cell_type": "markdown",
   "metadata": {},
   "source": [
    "> Beberapa dari Kita mungkin mengenal pemisahan menggunakan `backslash (\\),` namun tidak disarankan untuk digunakan, kecuali memang diharuskan. Contohnya adalah penggunaan backslash pada statement with atau assert yang tidak dapat menggunakan implicit continuation."
   ]
  },
  {
   "cell_type": "code",
   "execution_count": null,
   "metadata": {},
   "outputs": [],
   "source": [
    "with open('/path/to/some/file/you/want/to/read') as file_1,\\\n",
    "    open('/path/to/some/file/being/written', 'w') as file_2:\n",
    "    file_2.write(file_1.read())\n",
    "    # Pastikan untuk memberikan indentasi yang sesuai pada baris-baris lanjutannya."
   ]
  },
  {
   "cell_type": "markdown",
   "metadata": {},
   "source": [
    "> Mengganti baris: sebelum atau sesudah operator binary?\n",
    "Bagian ini hanya memberikan gambaran mengenai standar penulisan, pembahasan mengenai kondisional dibahas di modul `Operator,` `Operands,` dan `Expressions.`\n"
   ]
  },
  {
   "cell_type": "code",
   "execution_count": null,
   "metadata": {},
   "outputs": [],
   "source": [
    "income = (gross\n",
    "         + tax\n",
    "         + (dividen - qualified_deviden)\n",
    "         - ira_deduction\n",
    "         - student_interest)"
   ]
  },
  {
   "cell_type": "markdown",
   "metadata": {},
   "source": [
    "### Import"
   ]
  },
  {
   "cell_type": "markdown",
   "metadata": {},
   "source": [
    "> Saat melakukan `import library,` lakukan import setiap library pada baris berbeda."
   ]
  },
  {
   "cell_type": "code",
   "execution_count": 38,
   "metadata": {},
   "outputs": [],
   "source": [
    "import os\n",
    "import sys"
   ]
  },
  {
   "cell_type": "code",
   "execution_count": 39,
   "metadata": {},
   "outputs": [],
   "source": [
    "from subprocess import Popen, PIPE"
   ]
  },
  {
   "cell_type": "markdown",
   "metadata": {},
   "source": [
    "> Import umumnya diletakkan pada bagian awal berkas. Setelah komentar dan dokumentasi tentang berkas tersebut (misalnya definisi kelas, dll), sebelum variabel global dan konstanta. Jika memungkinkan, kelompokkan import dalam urutan berikut:\n",
    "1.\tStandard Library\n",
    "2.\tLibrary Pihak Ketiga\n",
    "3.\tLocal/Library spesifik"
   ]
  },
  {
   "cell_type": "markdown",
   "metadata": {},
   "source": [
    "> Pada Python 3, seluruh import yang dilakukan bersifat `absolute` (beserta seluruh path secara penuh)."
   ]
  },
  {
   "cell_type": "code",
   "execution_count": null,
   "metadata": {},
   "outputs": [],
   "source": [
    "import mypkg.sibling\n",
    "from mypkg import sibling\n",
    "from mypkg.sibling import example"
   ]
  },
  {
   "cell_type": "markdown",
   "metadata": {},
   "source": [
    "> Kode pada Standard library umumnya dapat menggunakan absolute import. Kita juga dapat mengimpor kelas/sub-library, Kita tentu saja dapat menggunakan pemanggilan berikut:"
   ]
  },
  {
   "cell_type": "code",
   "execution_count": null,
   "metadata": {},
   "outputs": [],
   "source": [
    "from myclass import MyClass\n",
    "from foo.bar.yourclass import YourClass"
   ]
  },
  {
   "cell_type": "markdown",
   "metadata": {},
   "source": [
    "> Jika ada penamaan kelas yang sama, gunakan pemanggilan secara eksplisit:"
   ]
  },
  {
   "cell_type": "code",
   "execution_count": null,
   "metadata": {},
   "outputs": [],
   "source": [
    "import myclass\n",
    "import foo.bar.yourclass"
   ]
  },
  {
   "cell_type": "markdown",
   "metadata": {},
   "source": [
    "> saat memanggil, gunakan `\"myclass.MyClass\"` dan `\"foo.bar.yourclass.YourClass\".`"
   ]
  },
  {
   "cell_type": "code",
   "execution_count": null,
   "metadata": {},
   "outputs": [],
   "source": [
    "from <module> import *"
   ]
  },
  {
   "cell_type": "markdown",
   "metadata": {},
   "source": [
    "### Whitespace pada Expressions dan Statements"
   ]
  },
  {
   "cell_type": "markdown",
   "metadata": {},
   "source": [
    "> Antara kurung, kurawal, kurung siku"
   ]
  },
  {
   "cell_type": "code",
   "execution_count": null,
   "metadata": {},
   "outputs": [],
   "source": [
    "spam(daging[1], {telur: 2})"
   ]
  },
  {
   "cell_type": "markdown",
   "metadata": {},
   "source": [
    "> Setelah koma, tanpa argumen lain setelahnya"
   ]
  },
  {
   "cell_type": "code",
   "execution_count": null,
   "metadata": {},
   "outputs": [],
   "source": [
    "foo = (0, )"
   ]
  },
  {
   "cell_type": "markdown",
   "metadata": {},
   "source": [
    "> Sebelum koma, titik dua, atau titik koma"
   ]
  },
  {
   "cell_type": "code",
   "execution_count": null,
   "metadata": {},
   "outputs": [],
   "source": [
    "if x == 4: print x, y; x, y = y, x"
   ]
  },
  {
   "cell_type": "markdown",
   "metadata": {},
   "source": [
    "> Namun, jika Kita menggunakan titik dua/colon sebagai `slice (sub-list),` pastikan ia memiliki `spasi/whitespace` yang sama pada kedua sisinya."
   ]
  },
  {
   "cell_type": "code",
   "execution_count": null,
   "metadata": {},
   "outputs": [],
   "source": [
    "daging[1:9, daging[1:9:3], daging[ :9:3], daging[1: :3], daging[1:9: ]]\n",
    "daging[lower:upper], daging[lower:upper: ], daging[lower: :step]\n",
    "daging[lower+offset : upper+offset]\n",
    "daging[: upper_fn(x) : step_fn(x)], daging[:: step_fn(x)]\n",
    "daging[lower + offset : upper + offset]"
   ]
  },
  {
   "cell_type": "code",
   "execution_count": null,
   "metadata": {},
   "outputs": [],
   "source": [
    "spam(1)"
   ]
  },
  {
   "cell_type": "markdown",
   "metadata": {},
   "source": [
    "> Saat memberikan `parameter/index pada list,` sebelum kurung siku tidak boleh ada spasi"
   ]
  },
  {
   "cell_type": "code",
   "execution_count": null,
   "metadata": {},
   "outputs": [],
   "source": [
    "dct['key'] = list[index]"
   ]
  },
  {
   "cell_type": "markdown",
   "metadata": {},
   "source": [
    "> Saat membuat assignment pada variabel, sebaiknya tidak menambahkan `whitespace` yang tidak perlu"
   ]
  },
  {
   "cell_type": "code",
   "execution_count": 44,
   "metadata": {},
   "outputs": [
    {
     "name": "stdout",
     "output_type": "stream",
     "text": [
      "3\n"
     ]
    }
   ],
   "source": [
    "x = 1\n",
    "y = 2\n",
    "panjang_variabel = x+y\n",
    "print(panjang_variabel)"
   ]
  },
  {
   "cell_type": "markdown",
   "metadata": {},
   "source": [
    "> Biasakan untuk menambahkan satu spasi baik di kiri maupun kanan untuk operasi berikut:\n",
    "1.\tassignment (=),\n",
    "2.\taugmented assignment (+=, -=etc.),\n",
    "3.\tcomparisons (==, <, >, !=, <>, <=, >=, in, not in, is, is not),\n",
    "4.\tBooleans (and, or, not)."
   ]
  },
  {
   "cell_type": "markdown",
   "metadata": {},
   "source": [
    "> `Catatan:` jangan pernah menggunakan `>1 spasi` dan gunakan spasi yang sama baik di sebelah kiri maupun kanan dari operator-operator binary."
   ]
  },
  {
   "cell_type": "code",
   "execution_count": null,
   "metadata": {},
   "outputs": [],
   "source": [
    "i = i + 1\n",
    "submitted += 1\n",
    "\n",
    "x = x*2 - 1\n",
    "hypot2 = x*x + y*y\n",
    "\n",
    "c = (a+b) * (a-b)"
   ]
  },
  {
   "cell_type": "markdown",
   "metadata": {},
   "source": [
    "### Komentar"
   ]
  },
  {
   "cell_type": "markdown",
   "metadata": {},
   "source": [
    "> Blok komentar diindentasi setara dengan kode yang dijelaskan. Setiap barisnya diawali dengan `#` dan sebuah spasi serta setiap paragrafnya dimulai pada baris baru."
   ]
  },
  {
   "cell_type": "markdown",
   "metadata": {},
   "source": [
    "#### Komentar Inline"
   ]
  },
  {
   "cell_type": "markdown",
   "metadata": {},
   "source": [
    "> `Komentar Inline` pada Python umumnya diletakkan pada baris yang sama dengan kode. Umumnya dipisahkan dan dirapikan dengan jarak dua spasi dari kode yang dimaksud, `diawali # dan sebuah spasi.`"
   ]
  },
  {
   "cell_type": "code",
   "execution_count": null,
   "metadata": {},
   "outputs": [],
   "source": [
    "x = x + 1  # Mengakomodasi layar ukuran Z"
   ]
  },
  {
   "cell_type": "markdown",
   "metadata": {},
   "source": [
    "### Dokumentasi"
   ]
  },
  {
   "cell_type": "markdown",
   "metadata": {},
   "source": [
    "> `Guideline` untuk menuliskan dokumentasi (docstring) yang baik tersedia di `PEP 257.` Kuncinya:\n",
    "* Buatlah dokumentasi untuk semua modul, fungsi, kelas, dan method yang bersifat public atau akan diakses publik.\n",
    "* `Docstring` tidak diwajibkan pada method yang tidak bersifat public, namun disarankan menambahkan komentar tentang apa saja yang dilakukan fungsi/modul beserta informasi lainnya yang mungkin diperlukan. `Komentar ini diletakkan setelah baris def.`\n"
   ]
  },
  {
   "cell_type": "markdown",
   "metadata": {},
   "source": [
    "> Meskipun secara sintaksis dapat menggantikan 3-tanda-kutip-dua `\"\"\" dengan 3-tanda-kutip-satu ''',` untuk penulisan komentar multi-baris, tetapi PEP 257 memberikan panduan gunakan 3-tanda-kutip-dua untuk dokumentasi (docstring)."
   ]
  },
  {
   "cell_type": "code",
   "execution_count": null,
   "metadata": {},
   "outputs": [],
   "source": [
    "\"\"\"Return\n",
    "Optional dokumentasi \n",
    "\"\"\""
   ]
  },
  {
   "cell_type": "markdown",
   "metadata": {},
   "source": [
    "### Tipe Data"
   ]
  },
  {
   "cell_type": "markdown",
   "metadata": {},
   "source": [
    "#### Number"
   ]
  },
  {
   "cell_type": "markdown",
   "metadata": {},
   "source": [
    "> Tipe numerik pada Python dibagi menjadi 3: `int,` `float,` `complex`"
   ]
  },
  {
   "cell_type": "code",
   "execution_count": 4,
   "metadata": {},
   "outputs": [
    {
     "name": "stdout",
     "output_type": "stream",
     "text": [
      "5 Tipe data <class 'int'>\n",
      "2.0 Tipe data <class 'float'>\n",
      "(1+2j) Complex number True\n"
     ]
    }
   ],
   "source": [
    "a = 5\n",
    "print(a, 'Tipe data', type(a))\n",
    "b = 2.0\n",
    "print(b, 'Tipe data', type(b))\n",
    "c = 1+2j\n",
    "print(c, 'Complex number', isinstance(1+2j,complex))"
   ]
  },
  {
   "cell_type": "markdown",
   "metadata": {},
   "source": [
    "> Integer tidak dibatasi oleh angka atau panjang tertentu, namun dibatasi oleh memori yang tersedia. Sehingga Kita tidak perlu menggunakan variabel yang menampung big number misalnya long long (C/C++), biginteger, atau sejenisnya. Contoh kode untuk menunjukkan bahwa Python tidak membatasi output integer adalah pencarian bilangan ke-10.000 pada deret fibonacci (catatan: bilangan ke-10.000 pada deret fibonacci memiliki panjang 2.090 digit) sebagai berikut:"
   ]
  },
  {
   "cell_type": "code",
   "execution_count": 5,
   "metadata": {},
   "outputs": [
    {
     "name": "stdout",
     "output_type": "stream",
     "text": [
      "33644764876431783266621612005107543310302148460680063906564769974680081442166662368155595513633734025582065332680836159373734790483865268263040892463056431887354544369559827491606602099884183933864652731300088830269235673613135117579297437854413752130520504347701602264758318906527890855154366159582987279682987510631200575428783453215515103870818298969791613127856265033195487140214287532698187962046936097879900350962302291026368131493195275630227837628441540360584402572114334961180023091208287046088923962328835461505776583271252546093591128203925285393434620904245248929403901706233888991085841065183173360437470737908552631764325733993712871937587746897479926305837065742830161637408969178426378624212835258112820516370298089332099905707920064367426202389783111470054074998459250360633560933883831923386783056136435351892133279732908133732642652633989763922723407882928177953580570993691049175470808931841056146322338217465637321248226383092103297701648054726243842374862411453093812206564914032751086643394517512161526545361333111314042436854805106765843493523836959653428071768775328348234345557366719731392746273629108210679280784718035329131176778924659089938635459327894523777674406192240337638674004021330343297496902028328145933418826817683893072003634795623117103101291953169794607632737589253530772552375943788434504067715555779056450443016640119462580972216729758615026968443146952034614932291105970676243268515992834709891284706740862008587135016260312071903172086094081298321581077282076353186624611278245537208532365305775956430072517744315051539600905168603220349163222640885248852433158051534849622434848299380905070483482449327453732624567755879089187190803662058009594743150052402532709746995318770724376825907419939632265984147498193609285223945039707165443156421328157688908058783183404917434556270520223564846495196112460268313970975069382648706613264507665074611512677522748621598642530711298441182622661057163515069260029861704945425047491378115154139941550671256271197133252763631939606902895650288268608362241082050562430701794976171121233066073310059947366875\n"
     ]
    }
   ],
   "source": [
    "x = [0] * 10005;           # inisialisasi array 0 sebanyak 10005; x[0]=0\n",
    "x [1] = 1;               # x[1]=1\n",
    "\n",
    "for j in range(2, 10001):\n",
    "    x[j] = x[j-1] + x[j-2]  # Fibonacci\n",
    "print(x[10000])"
   ]
  },
  {
   "cell_type": "markdown",
   "metadata": {},
   "source": [
    "> Perhatikan bagaimana Python melakukan pemotongan pada `digit ke 16` pada variabel float b. Float atau bilangan pecahan dibatasi akurasinya pada 15 desimal. Yang membedakan Integer dan Float adalah titik (decimal points). Misalnya dalam penulisan angka 1 jenisnya Integer, tapi jika dituliskan sebagai 1.0 artinya berjenis Float atau pecahan."
   ]
  },
  {
   "cell_type": "code",
   "execution_count": 9,
   "metadata": {},
   "outputs": [
    {
     "data": {
      "text/plain": [
       "0.12345678901234568"
      ]
     },
     "execution_count": 9,
     "metadata": {},
     "output_type": "execute_result"
    }
   ],
   "source": [
    "b = 0.1234567890123456789\n",
    "b"
   ]
  },
  {
   "cell_type": "markdown",
   "metadata": {},
   "source": [
    "> Karena Python banyak digunakan juga oleh matematikawan, tipe bilangan di Python juga mendukung bilangan imajiner dan bilangan kompleks. Nilai bilangan kompleks (complex) dituliskan dalam `formulasi x + yj,` yakni bagian `x adalah bilangan real,` dan `y adalah bilangan imajiner.` Contohnya adalah sebagai berikut:"
   ]
  },
  {
   "cell_type": "code",
   "execution_count": 6,
   "metadata": {},
   "outputs": [
    {
     "data": {
      "text/plain": [
       "1234567890123456789"
      ]
     },
     "execution_count": 6,
     "metadata": {},
     "output_type": "execute_result"
    }
   ],
   "source": [
    "a = 1234567890123456789\n",
    "a"
   ]
  },
  {
   "cell_type": "code",
   "execution_count": 7,
   "metadata": {},
   "outputs": [
    {
     "data": {
      "text/plain": [
       "(1+2j)"
      ]
     },
     "execution_count": 7,
     "metadata": {},
     "output_type": "execute_result"
    }
   ],
   "source": [
    "c = 1 + 2j\n",
    "c"
   ]
  },
  {
   "cell_type": "markdown",
   "metadata": {},
   "source": [
    "#### String"
   ]
  },
  {
   "cell_type": "markdown",
   "metadata": {},
   "source": [
    "> String adalah urutan dari karakter unicode. Dideklarasikan dengan `petik tunggal atau ganda.` String >1baris dapat ditandai dengan `tiga petik tunggal atau ganda ''' atau \"\"\".`"
   ]
  },
  {
   "cell_type": "code",
   "execution_count": 8,
   "metadata": {},
   "outputs": [
    {
     "name": "stdout",
     "output_type": "stream",
     "text": [
      "Ini adalah string\n",
      "Multiline\n",
      "line (1)\n",
      "line (2)\n",
      "\n"
     ]
    }
   ],
   "source": [
    "s = \"Ini adalah string\"\n",
    "a = '''Multiline\n",
    "line (1)\n",
    "line (2)\n",
    "'''\n",
    "print(s)\n",
    "print(a)"
   ]
  },
  {
   "cell_type": "markdown",
   "metadata": {},
   "source": [
    "> Seperti `list dan tuple, slicing operator [ ]` dapat digunakan pada string. Sebuah string utuh bersifat `mutable,` namun elemennya bersifat `immutable.`"
   ]
  },
  {
   "cell_type": "code",
   "execution_count": 9,
   "metadata": {},
   "outputs": [
    {
     "name": "stdout",
     "output_type": "stream",
     "text": [
      "W\n",
      "orld!\n"
     ]
    }
   ],
   "source": [
    "z = \"Halo World!\"\n",
    "print(z[5])\n",
    "print(z[6:11])"
   ]
  },
  {
   "cell_type": "markdown",
   "metadata": {},
   "source": [
    "#### Bool/Boolean"
   ]
  },
  {
   "cell_type": "markdown",
   "metadata": {},
   "source": [
    "> `Tipe data bool atau Boolean,` merupakan turunan dari bilangan bulat (integer atau int) yang hanya punya dua nilai konstanta: `True dan False.` <br><br>\n",
    "Di dalam konteks angka, misalnya digunakan sebagai argumen dari operator matematika aritmatika, kedua nilai ini berlaku seperti halnya bilangan bulat 0 dan 1, sesuai False dan True."
   ]
  },
  {
   "cell_type": "markdown",
   "metadata": {},
   "source": [
    "> Berikut adalah objek bawaan yang didefinisikan bernilai salah dalam pengujian nilai kebenaran: \n",
    "1. `Konstanta` yang sudah didefinisikan bernilai salah: None dan False\n",
    "2. Angka nol dari semua tipe numeric: `0, 0.0, 0j,` `Decimal(0),` `Fraction(0, 1)`\n",
    "3. `Urutan (sequence)` dan koleksi (collection) yang kosong: '', (), {}, `set(),` `range(0)`\n"
   ]
  },
  {
   "cell_type": "markdown",
   "metadata": {},
   "source": [
    "#### List"
   ]
  },
  {
   "cell_type": "markdown",
   "metadata": {},
   "source": [
    "> `List` adalah jenis kumpulan data terurut `(ordered sequence),` dan merupakan salah satu variabel yang sering digunakan pada Python. Serupa, namun tak sama dengan array pada bahasa pemrograman lainnya. `Bedanya,` elemen List pada Python `tidak` harus memiliki tipe data yang sama. Mendeklarasikan `List` cukup mudah dengan kurung siku dan elemen yang dipisahkan dengan koma. Setiap data didalamnya dapat diakses dengan indeks yang dimulai dari 0."
   ]
  },
  {
   "cell_type": "code",
   "execution_count": 10,
   "metadata": {},
   "outputs": [
    {
     "data": {
      "text/plain": [
       "[1, 2.2, 'python']"
      ]
     },
     "execution_count": 10,
     "metadata": {},
     "output_type": "execute_result"
    }
   ],
   "source": [
    "a = [1, 2.2, 'python']\n",
    "a"
   ]
  },
  {
   "cell_type": "code",
   "execution_count": 11,
   "metadata": {},
   "outputs": [
    {
     "name": "stdout",
     "output_type": "stream",
     "text": [
      "5\n",
      "30\n",
      "40\n",
      "[20, 25]\n",
      "[5, 10, 15, 20, 25]\n",
      "[30, 35, 40]\n",
      "[10, 20, 30]\n"
     ]
    }
   ],
   "source": [
    "x = [5, 10, 15, 20, 25, 30, 35, 40]\n",
    "\n",
    "print(x[0])      # Mengambil elemen paling awal, dengan index 0 dari List\n",
    "print(x[5])      # Mengambil elemen dengan index 5 dari List\n",
    "print(x[-1])     # Mengambil elemen dengan index paling belakang ke-1 dari List\n",
    "\n",
    "print(x[3:5])    # Membuat list dari anggota elemen List\n",
    "                 # dengan index 3 hingga sebelum index 5\n",
    "                 # (tidak termasuk elemen dengan index 5, dalam hal ini hanya index 3-4)\n",
    "                \n",
    "print(x[ :5])    # Membuat list dari anggota elemen List paling awal hingga sebelum index 5\n",
    "                 # (tidak termasuk elemen dengan index 5, dalam hal ini hanya index 0-4)\n",
    "\n",
    "print(x[-3: ])   # Membuat list dari anggota elemen List\n",
    "                 # mulai index ke-3 dari belakang hingga paling belakang\n",
    "    \n",
    "print(x[1:7:2])  # Membuat list dari anggota elemen List\n",
    "                 # dengan index 1 hingga sebelum index 5,\n",
    "                 # dengan \"step\" 2 (dalam hal ini hanya index 1, 3, 5) "
   ]
  },
  {
   "cell_type": "markdown",
   "metadata": {},
   "source": [
    "> Elemen pada list dapat diubah atau ditambahkan. Misalnya untuk melakukan perubahan kemudian penambahan:"
   ]
  },
  {
   "cell_type": "code",
   "execution_count": 12,
   "metadata": {},
   "outputs": [
    {
     "data": {
      "text/plain": [
       "[1, 2, 3]"
      ]
     },
     "execution_count": 12,
     "metadata": {},
     "output_type": "execute_result"
    }
   ],
   "source": [
    "x = [1, 2, 3]\n",
    "x"
   ]
  },
  {
   "cell_type": "code",
   "execution_count": 13,
   "metadata": {},
   "outputs": [
    {
     "data": {
      "text/plain": [
       "[1, 2, 4]"
      ]
     },
     "execution_count": 13,
     "metadata": {},
     "output_type": "execute_result"
    }
   ],
   "source": [
    "x[2] = 4\n",
    "x"
   ]
  },
  {
   "cell_type": "code",
   "execution_count": 14,
   "metadata": {},
   "outputs": [
    {
     "data": {
      "text/plain": [
       "[1, 2, 4, 5]"
      ]
     },
     "execution_count": 14,
     "metadata": {},
     "output_type": "execute_result"
    }
   ],
   "source": [
    "x.append(5)\n",
    "x"
   ]
  },
  {
   "cell_type": "markdown",
   "metadata": {},
   "source": [
    "> Untuk menghapus, gunakan fungsi `del`"
   ]
  },
  {
   "cell_type": "code",
   "execution_count": 7,
   "metadata": {},
   "outputs": [
    {
     "data": {
      "text/plain": [
       "['Ismail', 'Fatimah', 'Musa', 'Muhammad']"
      ]
     },
     "execution_count": 7,
     "metadata": {},
     "output_type": "execute_result"
    }
   ],
   "source": [
    "teman = ['Ismail', 'Fatimah', 'Musa', 'Muhammad']\n",
    "teman"
   ]
  },
  {
   "cell_type": "code",
   "execution_count": 9,
   "metadata": {},
   "outputs": [
    {
     "data": {
      "text/plain": [
       "['Ismail', 'Fatimah', 'Muhammad']"
      ]
     },
     "execution_count": 9,
     "metadata": {},
     "output_type": "execute_result"
    }
   ],
   "source": [
    "del teman[2]\n",
    "teman"
   ]
  },
  {
   "cell_type": "markdown",
   "metadata": {},
   "source": [
    "#### Tuple"
   ]
  },
  {
   "cell_type": "markdown",
   "metadata": {},
   "source": [
    "> `Tuple` adalah jenis dari list yang tidak dapat diubah elemennya. Umumnya tuple digunakan untuk data yang bersifat sekali tulis, dan dapat dieksekusi lebih cepat. `Tuple didefinisikan dengan kurung dan elemen yang dipisahkan dengan koma.`"
   ]
  },
  {
   "cell_type": "code",
   "execution_count": 10,
   "metadata": {},
   "outputs": [
    {
     "data": {
      "text/plain": [
       "(5, 'tuple', (1+3j))"
      ]
     },
     "execution_count": 10,
     "metadata": {},
     "output_type": "execute_result"
    }
   ],
   "source": [
    "t = (5, 'tuple', 1+3j)\n",
    "t"
   ]
  },
  {
   "cell_type": "markdown",
   "metadata": {},
   "source": [
    "> Seperti `list,` kita dapat melakukan slicing, namun pada `tuple` kita tidak dapat melakukan perubahan:"
   ]
  },
  {
   "cell_type": "code",
   "execution_count": 13,
   "metadata": {},
   "outputs": [
    {
     "data": {
      "text/plain": [
       "'tuple'"
      ]
     },
     "execution_count": 13,
     "metadata": {},
     "output_type": "execute_result"
    }
   ],
   "source": [
    "t[1]"
   ]
  },
  {
   "cell_type": "code",
   "execution_count": 14,
   "metadata": {},
   "outputs": [
    {
     "data": {
      "text/plain": [
       "(5, 'tuple', (1+3j))"
      ]
     },
     "execution_count": 14,
     "metadata": {},
     "output_type": "execute_result"
    }
   ],
   "source": [
    "t[0:3]"
   ]
  },
  {
   "cell_type": "markdown",
   "metadata": {},
   "source": [
    "#### Set"
   ]
  },
  {
   "cell_type": "markdown",
   "metadata": {},
   "source": [
    "> `Set` adalah kumpulan item bersifat unik dan tanpa urutan (unordered collection). `Didefinisikan dengan kurawal dan elemennya dipisahkan dengan koma.` Pada Set kita dapat melakukan union dan intersection, sekaligus otomatis melakukan penghapusan data duplikat."
   ]
  },
  {
   "cell_type": "code",
   "execution_count": 15,
   "metadata": {},
   "outputs": [
    {
     "data": {
      "text/plain": [
       "{1, 2, 3}"
      ]
     },
     "execution_count": 15,
     "metadata": {},
     "output_type": "execute_result"
    }
   ],
   "source": [
    "s = {1, 2, 2, 3, 3, 3}\n",
    "s"
   ]
  },
  {
   "cell_type": "markdown",
   "metadata": {},
   "source": [
    "> Karena `set` bersifat `unordered,` maka kita `tidak bisa mengambil sebagian data / elemen datanya menggunakan proses slicing.`"
   ]
  },
  {
   "cell_type": "markdown",
   "metadata": {},
   "source": [
    "#### Dictionary"
   ]
  },
  {
   "cell_type": "markdown",
   "metadata": {},
   "source": [
    "> `Dictionary` adalah `kumpulan pasangan kunci-nilai (pair of key-value)` yang bersifat tidak berurutan. `Dictionary` dapat digunakan untuk menyimpan data kecil hingga besar. Untuk mengakses datanya, kita harus mengetahui kuncinya (key). Pada Python, `dictionary didefinisikan dengan kurawal` dan tambahan definisi berikut:\n",
    "1.\tSetiap elemen pair key-value `dipisahkan dengan koma (,)`\n",
    "2.\tKey dan Value dipisahkan `dengan titik dua (:)`\n",
    "3.\tKey dan Value dapat berupa tipe `variabel/obyek apapun`"
   ]
  },
  {
   "cell_type": "code",
   "execution_count": 15,
   "metadata": {},
   "outputs": [
    {
     "data": {
      "text/plain": [
       "{1: 'value', 'key': 2}"
      ]
     },
     "execution_count": 15,
     "metadata": {},
     "output_type": "execute_result"
    }
   ],
   "source": [
    "d = {1 : 'value', 'key' : 2}\n",
    "d"
   ]
  },
  {
   "cell_type": "code",
   "execution_count": 16,
   "metadata": {},
   "outputs": [
    {
     "name": "stdout",
     "output_type": "stream",
     "text": [
      "<class 'dict'>\n"
     ]
    }
   ],
   "source": [
    "print(type(d))"
   ]
  },
  {
   "cell_type": "code",
   "execution_count": 17,
   "metadata": {},
   "outputs": [
    {
     "name": "stdout",
     "output_type": "stream",
     "text": [
      "d[1] =  value\n"
     ]
    }
   ],
   "source": [
    "print(\"d[1] = \", d[1])"
   ]
  },
  {
   "cell_type": "code",
   "execution_count": 18,
   "metadata": {},
   "outputs": [
    {
     "name": "stdout",
     "output_type": "stream",
     "text": [
      "d['key'] =  2\n"
     ]
    }
   ],
   "source": [
    "print(\"d['key'] = \", d['key'])"
   ]
  },
  {
   "cell_type": "markdown",
   "metadata": {},
   "source": [
    "> `Dictionary` bukan termasuk dalam implementasi urutan `(sequences),` sehingga `tidak bisa dipanggil dengan urutan indeks.`"
   ]
  },
  {
   "cell_type": "markdown",
   "metadata": {},
   "source": [
    "#### Konversi (conversion, cast) antar tipe data"
   ]
  },
  {
   "cell_type": "markdown",
   "metadata": {},
   "source": [
    "> Kita dapat melakukan konversi tipe data bawaan dengan menggunakan fungsi konversi tipe bawaan (standard type) misalnya: `int(),` `float(),` `str(),` dll."
   ]
  },
  {
   "cell_type": "code",
   "execution_count": 19,
   "metadata": {},
   "outputs": [
    {
     "data": {
      "text/plain": [
       "5.0"
      ]
     },
     "execution_count": 19,
     "metadata": {},
     "output_type": "execute_result"
    }
   ],
   "source": [
    "float(5)"
   ]
  },
  {
   "cell_type": "markdown",
   "metadata": {},
   "source": [
    "> Konversi `float ke int` akan bersifat `floor/truncating,` menghilangkan nilai di belakang koma."
   ]
  },
  {
   "cell_type": "code",
   "execution_count": 20,
   "metadata": {},
   "outputs": [
    {
     "data": {
      "text/plain": [
       "10"
      ]
     },
     "execution_count": 20,
     "metadata": {},
     "output_type": "execute_result"
    }
   ],
   "source": [
    "int(10.6)"
   ]
  },
  {
   "cell_type": "code",
   "execution_count": 21,
   "metadata": {},
   "outputs": [
    {
     "data": {
      "text/plain": [
       "-10"
      ]
     },
     "execution_count": 21,
     "metadata": {},
     "output_type": "execute_result"
    }
   ],
   "source": [
    "int(-10.6)"
   ]
  },
  {
   "cell_type": "markdown",
   "metadata": {},
   "source": [
    "> `Konversi dari-dan-ke string` akan melalui pengujian dan dipastikan validitasnya."
   ]
  },
  {
   "cell_type": "code",
   "execution_count": 22,
   "metadata": {},
   "outputs": [
    {
     "data": {
      "text/plain": [
       "2.5"
      ]
     },
     "execution_count": 22,
     "metadata": {},
     "output_type": "execute_result"
    }
   ],
   "source": [
    "float('2.5')"
   ]
  },
  {
   "cell_type": "code",
   "execution_count": 23,
   "metadata": {},
   "outputs": [
    {
     "data": {
      "text/plain": [
       "'25'"
      ]
     },
     "execution_count": 23,
     "metadata": {},
     "output_type": "execute_result"
    }
   ],
   "source": [
    "str(25)"
   ]
  },
  {
   "cell_type": "markdown",
   "metadata": {},
   "source": [
    "> Kita juga dapat melakukan konversi kumpulan data (`set,` `list,` `tuple`)."
   ]
  },
  {
   "cell_type": "code",
   "execution_count": 24,
   "metadata": {},
   "outputs": [
    {
     "data": {
      "text/plain": [
       "{1, 2, 3}"
      ]
     },
     "execution_count": 24,
     "metadata": {},
     "output_type": "execute_result"
    }
   ],
   "source": [
    "set([1, 2, 3])      # Set"
   ]
  },
  {
   "cell_type": "code",
   "execution_count": 25,
   "metadata": {},
   "outputs": [
    {
     "data": {
      "text/plain": [
       "(5, 6, 7)"
      ]
     },
     "execution_count": 25,
     "metadata": {},
     "output_type": "execute_result"
    }
   ],
   "source": [
    "tuple({5, 6, 7})    # Tuple"
   ]
  },
  {
   "cell_type": "code",
   "execution_count": 26,
   "metadata": {},
   "outputs": [
    {
     "data": {
      "text/plain": [
       "['h', 'e', 'l', 'l', 'o']"
      ]
     },
     "execution_count": 26,
     "metadata": {},
     "output_type": "execute_result"
    }
   ],
   "source": [
    "list('hello')       # List"
   ]
  },
  {
   "cell_type": "markdown",
   "metadata": {},
   "source": [
    "> Untuk konversi ke `dictionary,` data harus memenuhi persyaratan `key-value.` Berikut adalah dua contoh konversi:\n",
    "`List dari beberapa List` yang isinya pasangan nilai menjadi `Dictionary.` \n"
   ]
  },
  {
   "cell_type": "markdown",
   "metadata": {},
   "source": [
    "> Serta konversi `List` dari `beberapa Tuple` yang isinya pasangan nilai menjadi `Dictionary.`"
   ]
  },
  {
   "cell_type": "code",
   "execution_count": 27,
   "metadata": {},
   "outputs": [
    {
     "data": {
      "text/plain": [
       "{1: 2, 3: 4}"
      ]
     },
     "execution_count": 27,
     "metadata": {},
     "output_type": "execute_result"
    }
   ],
   "source": [
    "dict([[1, 2], [3, 4]])"
   ]
  },
  {
   "cell_type": "code",
   "execution_count": 28,
   "metadata": {},
   "outputs": [
    {
     "data": {
      "text/plain": [
       "{3: 33, 4: 44}"
      ]
     },
     "execution_count": 28,
     "metadata": {},
     "output_type": "execute_result"
    }
   ],
   "source": [
    "dict([(3, 33), (4, 44)])"
   ]
  },
  {
   "cell_type": "markdown",
   "metadata": {},
   "source": [
    "## Input/Output"
   ]
  },
  {
   "cell_type": "markdown",
   "metadata": {},
   "source": [
    "> Untuk memberikan nilai pada sebuah variabel, kita menggunakan `operator \"=\",` antara nama variabel dengan nilai yang ingin disimpan."
   ]
  },
  {
   "cell_type": "code",
   "execution_count": 29,
   "metadata": {},
   "outputs": [
    {
     "data": {
      "text/plain": [
       "1"
      ]
     },
     "execution_count": 29,
     "metadata": {},
     "output_type": "execute_result"
    }
   ],
   "source": [
    "x = 1\n",
    "x"
   ]
  },
  {
   "cell_type": "markdown",
   "metadata": {},
   "source": [
    "> kita akan menyimpan `nilai 1` (tipe int) ke `variabel x.`"
   ]
  },
  {
   "cell_type": "markdown",
   "metadata": {},
   "source": [
    "## Output"
   ]
  },
  {
   "cell_type": "markdown",
   "metadata": {},
   "source": [
    "### Print"
   ]
  },
  {
   "cell_type": "markdown",
   "metadata": {},
   "source": [
    "> Fungsi `print()` adalah cara output langsung ke `konsol/layar.`"
   ]
  },
  {
   "cell_type": "code",
   "execution_count": 30,
   "metadata": {},
   "outputs": [
    {
     "name": "stdout",
     "output_type": "stream",
     "text": [
      "Aku Menunggu\n"
     ]
    }
   ],
   "source": [
    "print(\"Aku Menunggu\")"
   ]
  },
  {
   "cell_type": "code",
   "execution_count": 31,
   "metadata": {},
   "outputs": [
    {
     "name": "stdout",
     "output_type": "stream",
     "text": [
      "Nilai a adalah  9\n"
     ]
    }
   ],
   "source": [
    "a = 9\n",
    "print(\"Nilai a adalah \", a)   # Memasukkan nilai variabel pada string"
   ]
  },
  {
   "cell_type": "code",
   "execution_count": 32,
   "metadata": {},
   "outputs": [
    {
     "name": "stdout",
     "output_type": "stream",
     "text": [
      "Halo Sayang\n"
     ]
    }
   ],
   "source": [
    "print(\"Halo {}\". format(\"Sayang\"))   # Untuk menampilkan text (string)"
   ]
  },
  {
   "cell_type": "markdown",
   "metadata": {},
   "source": [
    "> Kita juga bisa menggunakan operator `“%”` yang ditambahkan dengan `\"argument specifiers\",` misalnya `\"%s\"` and `\"%d\".` "
   ]
  },
  {
   "cell_type": "code",
   "execution_count": 33,
   "metadata": {},
   "outputs": [
    {
     "name": "stdout",
     "output_type": "stream",
     "text": [
      "Halo, Fatimah!\n"
     ]
    }
   ],
   "source": [
    "nama = \"Fatimah\"\n",
    "print(\"Halo, %s!\" % nama)   # Menambahkan nama  pada string Halo"
   ]
  },
  {
   "cell_type": "code",
   "execution_count": 34,
   "metadata": {},
   "outputs": [
    {
     "name": "stdout",
     "output_type": "stream",
     "text": [
      "Ismail berumur 10 tahun.\n"
     ]
    }
   ],
   "source": [
    "nama = \"Ismail\"\n",
    "umur = 10\n",
    "print(\"%s berumur %d tahun.\" % (nama, umur))   # Menambahkan string dan integer"
   ]
  },
  {
   "cell_type": "code",
   "execution_count": 35,
   "metadata": {},
   "outputs": [
    {
     "name": "stdout",
     "output_type": "stream",
     "text": [
      "List A: [1, 2, 3]\n"
     ]
    }
   ],
   "source": [
    "listku = [1, 2, 3]\n",
    "print(\"List A: %s\" % listku)   # Menambahkan objek selain string (otomatis dikonversi)"
   ]
  },
  {
   "cell_type": "markdown",
   "metadata": {},
   "source": [
    "> Beberapa argument specifier yang umum digunakan:\n",
    "* %s - String\n",
    "* %d - Integers\n",
    "* %f - Bilangan Pecahan\n",
    "* %. f - Bilangan pecahan dengan sejumlah digit angka dibelakang koma.\n",
    "* %x/%X - Bilangan bulat dalam representasi Hexa (huruf kecil/huruf besar)\n"
   ]
  },
  {
   "cell_type": "code",
   "execution_count": 36,
   "metadata": {},
   "outputs": [
    {
     "data": {
      "text/plain": [
       "(10, 11)"
      ]
     },
     "execution_count": 36,
     "metadata": {},
     "output_type": "execute_result"
    }
   ],
   "source": [
    "a, b = 10, 11\n",
    "a, b\n"
   ]
  },
  {
   "cell_type": "code",
   "execution_count": 37,
   "metadata": {},
   "outputs": [
    {
     "name": "stdout",
     "output_type": "stream",
     "text": [
      "a: a dan b: B\n"
     ]
    }
   ],
   "source": [
    "print(\"a: %x dan b: %X\" % (a, b))   # Mencetak representasi Hexa"
   ]
  },
  {
   "cell_type": "markdown",
   "metadata": {},
   "source": [
    "### Input"
   ]
  },
  {
   "cell_type": "markdown",
   "metadata": {},
   "source": [
    "Untuk memungkinkan user memberikan input pada program, gunakan fungsi `input(),` dengan argumen dalam `kurung ()` adalah teks yang ingin ditampilkan `(prompt)` dan variabel sebelum `tanda sama dengan (=)` adalah penampung hasil dari input pengguna:\n"
   ]
  },
  {
   "cell_type": "code",
   "execution_count": 38,
   "metadata": {},
   "outputs": [
    {
     "name": "stdin",
     "output_type": "stream",
     "text": [
      "Masukkan angka:  25\n"
     ]
    }
   ],
   "source": [
    "angka = input(\"Masukkan angka: \")"
   ]
  },
  {
   "cell_type": "code",
   "execution_count": 39,
   "metadata": {},
   "outputs": [
    {
     "data": {
      "text/plain": [
       "'25'"
      ]
     },
     "execution_count": 39,
     "metadata": {},
     "output_type": "execute_result"
    }
   ],
   "source": [
    "angka"
   ]
  },
  {
   "cell_type": "markdown",
   "metadata": {},
   "source": [
    "> Secara default, input dari user adalah `string` (sebenarnya yang dimaksud adalah `integer`) yang ditandai dengan petik. Untuk itu diperlukan `konversi` misalnya `int()` dan `float().`"
   ]
  },
  {
   "cell_type": "code",
   "execution_count": 40,
   "metadata": {},
   "outputs": [
    {
     "data": {
      "text/plain": [
       "25"
      ]
     },
     "execution_count": 40,
     "metadata": {},
     "output_type": "execute_result"
    }
   ],
   "source": [
    "int(angka)"
   ]
  },
  {
   "cell_type": "code",
   "execution_count": 41,
   "metadata": {},
   "outputs": [
    {
     "data": {
      "text/plain": [
       "25.0"
      ]
     },
     "execution_count": 41,
     "metadata": {},
     "output_type": "execute_result"
    }
   ],
   "source": [
    "float(angka)"
   ]
  },
  {
   "cell_type": "markdown",
   "metadata": {},
   "source": [
    "> Kita dapat menggunakan fungsi `eval()` yang sekaligus juga berfungsi menyelesaikan ekspresi matematika. "
   ]
  },
  {
   "cell_type": "code",
   "execution_count": 42,
   "metadata": {},
   "outputs": [
    {
     "data": {
      "text/plain": [
       "9"
      ]
     },
     "execution_count": 42,
     "metadata": {},
     "output_type": "execute_result"
    }
   ],
   "source": [
    "eval(\"3*3\")"
   ]
  },
  {
   "cell_type": "markdown",
   "metadata": {},
   "source": [
    "> Python dikenal sebagai salah satu bahasa yang menerapkan `dynamic typing,` yakni bahasa pemrograman yang hanya mengetahui tipe variabel saat program berjalan dan dilakukan `assignment.` "
   ]
  },
  {
   "cell_type": "code",
   "execution_count": 43,
   "metadata": {},
   "outputs": [
    {
     "name": "stdout",
     "output_type": "stream",
     "text": [
      "<class 'int'>\n"
     ]
    }
   ],
   "source": [
    "x = 7\n",
    "print(type(x))   # Memeriksa tipe variabel"
   ]
  },
  {
   "cell_type": "code",
   "execution_count": 44,
   "metadata": {},
   "outputs": [
    {
     "name": "stdout",
     "output_type": "stream",
     "text": [
      "<class 'str'>\n"
     ]
    }
   ],
   "source": [
    "y = \"Ismail\"\n",
    "print(type(y))   # Memeriksa tipe variabel"
   ]
  },
  {
   "cell_type": "code",
   "execution_count": 45,
   "metadata": {},
   "outputs": [
    {
     "name": "stdout",
     "output_type": "stream",
     "text": [
      "<class 'str'>\n"
     ]
    }
   ],
   "source": [
    "z = \"Fatimah\"\n",
    "print(type(z))   # Memeriksa tipe variabel"
   ]
  },
  {
   "cell_type": "code",
   "execution_count": 46,
   "metadata": {},
   "outputs": [
    {
     "name": "stdout",
     "output_type": "stream",
     "text": [
      "<class 'float'>\n"
     ]
    }
   ],
   "source": [
    "f = 28.1\n",
    "print(type(f))   # Memeriksa tipe variabel"
   ]
  },
  {
   "cell_type": "markdown",
   "metadata": {},
   "source": [
    "### Duck Typing"
   ]
  },
  {
   "cell_type": "markdown",
   "metadata": {},
   "source": [
    "> Python juga sering diafiliasikan dengan metode `duck typing,` yang merefleksikan pada frase:<br> \n",
    "`“if it walks like a duck and it quacks like a duck, then it must be a duck”` <br>\n",
    "(Jika sesuatu berjalan seperti bebek dan bersuara seperti bebek, maka kemungkinan besar ia adalah bebek). "
   ]
  },
  {
   "cell_type": "markdown",
   "metadata": {},
   "source": [
    "> `Duck typing` adalah sebuah konsep, tipe atau kelas dari sebuah obyek tidak lebih penting daripada metode yang menjadi perilakunya. "
   ]
  },
  {
   "cell_type": "markdown",
   "metadata": {},
   "source": [
    "> Untuk memeriksa dan mengetahui tipe sebuah obyek, Kita cukup memastikan `metode/fungsi/behavior` dari obyek tersebut. "
   ]
  },
  {
   "cell_type": "code",
   "execution_count": 47,
   "metadata": {},
   "outputs": [
    {
     "data": {
      "text/plain": [
       "4"
      ]
     },
     "execution_count": 47,
     "metadata": {},
     "output_type": "execute_result"
    }
   ],
   "source": [
    "x = \"peny\"\n",
    "len(x)   # Mengetahui panjang string"
   ]
  },
  {
   "cell_type": "markdown",
   "metadata": {},
   "source": [
    "> Fungsi `len()` tidak berlaku pada variabel `numerik` (misalnya `integer`)."
   ]
  },
  {
   "cell_type": "markdown",
   "metadata": {},
   "source": [
    "### Transformasi angka"
   ]
  },
  {
   "cell_type": "markdown",
   "metadata": {},
   "source": [
    "> Menambahkan awalan 0 pada angka <br><br>\n",
    "Misalnya untuk nomor nota atau nomor antrian, Kita membutuhkan tambahan awalan 0 (0001 untuk angka 1, 0101 untuk angka 101, dll). Kita dapat menggunakan `fungsi zfill().`\n",
    ">> Dengan catatan angka harus `dikonversi ke string` terlebih dahulu"
   ]
  },
  {
   "cell_type": "code",
   "execution_count": 48,
   "metadata": {},
   "outputs": [
    {
     "data": {
      "text/plain": [
       "int"
      ]
     },
     "execution_count": 48,
     "metadata": {},
     "output_type": "execute_result"
    }
   ],
   "source": [
    "trans = 1\n",
    "type(trans)"
   ]
  },
  {
   "cell_type": "code",
   "execution_count": 49,
   "metadata": {},
   "outputs": [
    {
     "data": {
      "text/plain": [
       "'00001'"
      ]
     },
     "execution_count": 49,
     "metadata": {},
     "output_type": "execute_result"
    }
   ],
   "source": [
    "str(trans).zfill(5)"
   ]
  },
  {
   "cell_type": "code",
   "execution_count": 50,
   "metadata": {},
   "outputs": [
    {
     "data": {
      "text/plain": [
       "'0300'"
      ]
     },
     "execution_count": 50,
     "metadata": {},
     "output_type": "execute_result"
    }
   ],
   "source": [
    "x = 300\n",
    "str(x).zfill(4)"
   ]
  },
  {
   "cell_type": "markdown",
   "metadata": {},
   "source": [
    "#### Transformasi karakter dan string"
   ]
  },
  {
   "cell_type": "markdown",
   "metadata": {},
   "source": [
    "> Metode `upper()` dan `lower()` dari `String (dan karakter)`\n",
    "* `upper()` String menjadi kapital\n",
    "* `lower()` String menjadi huruf kecil"
   ]
  },
  {
   "cell_type": "code",
   "execution_count": 51,
   "metadata": {},
   "outputs": [
    {
     "data": {
      "text/plain": [
       "'PENY ISMAIL'"
      ]
     },
     "execution_count": 51,
     "metadata": {},
     "output_type": "execute_result"
    }
   ],
   "source": [
    "p = \"PenY Ismail\"\n",
    "p.upper()"
   ]
  },
  {
   "cell_type": "code",
   "execution_count": 52,
   "metadata": {},
   "outputs": [
    {
     "data": {
      "text/plain": [
       "'peny ismail'"
      ]
     },
     "execution_count": 52,
     "metadata": {},
     "output_type": "execute_result"
    }
   ],
   "source": [
    "p.lower()"
   ]
  },
  {
   "cell_type": "code",
   "execution_count": 53,
   "metadata": {},
   "outputs": [
    {
     "name": "stdin",
     "output_type": "stream",
     "text": [
      "Bagaimana kabarmu? aku sedang sakit\n"
     ]
    },
    {
     "name": "stdout",
     "output_type": "stream",
     "text": [
      "Aku berharap semoga baik-baik saja\n"
     ]
    }
   ],
   "source": [
    "tanya = input(\"Bagaimana kabarmu?\")\n",
    "if tanya.lower() == 'baik':\n",
    "    print(\"Aku juga baik\")\n",
    "else:\n",
    "    print(\"Aku berharap semoga baik-baik saja\")"
   ]
  },
  {
   "cell_type": "markdown",
   "metadata": {},
   "source": [
    "> `isupper()` dan `islower()` akan mengembalikan nilai boolean jika string yang dimaksud memiliki satu karakter dan `seluruhnya kapital` atau `seluruhnya huruf kecil.` "
   ]
  },
  {
   "cell_type": "code",
   "execution_count": 54,
   "metadata": {},
   "outputs": [
    {
     "data": {
      "text/plain": [
       "False"
      ]
     },
     "execution_count": 54,
     "metadata": {},
     "output_type": "execute_result"
    }
   ],
   "source": [
    "p = \"Merah putih\"\n",
    "p.islower()"
   ]
  },
  {
   "cell_type": "code",
   "execution_count": 55,
   "metadata": {},
   "outputs": [
    {
     "data": {
      "text/plain": [
       "False"
      ]
     },
     "execution_count": 55,
     "metadata": {},
     "output_type": "execute_result"
    }
   ],
   "source": [
    "p.isupper()"
   ]
  },
  {
   "cell_type": "code",
   "execution_count": 56,
   "metadata": {},
   "outputs": [
    {
     "data": {
      "text/plain": [
       "True"
      ]
     },
     "execution_count": 56,
     "metadata": {},
     "output_type": "execute_result"
    }
   ],
   "source": [
    "\"MERAH PUTIH\".isupper()"
   ]
  },
  {
   "cell_type": "code",
   "execution_count": 57,
   "metadata": {},
   "outputs": [
    {
     "data": {
      "text/plain": [
       "True"
      ]
     },
     "execution_count": 57,
     "metadata": {},
     "output_type": "execute_result"
    }
   ],
   "source": [
    "\"abcedef1234567\".islower()"
   ]
  },
  {
   "cell_type": "code",
   "execution_count": 58,
   "metadata": {},
   "outputs": [
    {
     "data": {
      "text/plain": [
       "False"
      ]
     },
     "execution_count": 58,
     "metadata": {},
     "output_type": "execute_result"
    }
   ],
   "source": [
    "\"1234567\".islower()"
   ]
  },
  {
   "cell_type": "code",
   "execution_count": 59,
   "metadata": {},
   "outputs": [
    {
     "data": {
      "text/plain": [
       "False"
      ]
     },
     "execution_count": 59,
     "metadata": {},
     "output_type": "execute_result"
    }
   ],
   "source": [
    "\"1234567\".isupper()"
   ]
  },
  {
   "cell_type": "markdown",
   "metadata": {},
   "source": [
    "#### Metode isX dari String untuk Pengecekan"
   ]
  },
  {
   "cell_type": "markdown",
   "metadata": {},
   "source": [
    "> Semua method berikut mengembalikan nilai boolean:\n",
    "* `isalpha()` mengembalikan `True` jika string berisi `hanya huruf` dan tidak kosong.\n",
    "* `isalnum()` mengembalikan `True` jika string berisi `hanya huruf atau angka,` dan tidak kosong.\n",
    "* `isdecimal()` mengembalikan `True` jika string berisi hanya `angka/numerik` dan tidak kosong.\n",
    "* `isspace()` mengembalikan `True` jika string berisi hanya `spasi, tab, newline, atau whitespaces` lainnya dan tidak kosong.\n",
    "* `istitle()` mengembalikan `True` jika string berisi `kata yang diawali huruf kapital dan dilanjutkan dengan huruf kecil seterusnya.`\n"
   ]
  },
  {
   "cell_type": "markdown",
   "metadata": {},
   "source": [
    "`isalpha()`"
   ]
  },
  {
   "cell_type": "code",
   "execution_count": 60,
   "metadata": {},
   "outputs": [
    {
     "data": {
      "text/plain": [
       "True"
      ]
     },
     "execution_count": 60,
     "metadata": {},
     "output_type": "execute_result"
    }
   ],
   "source": [
    "\"merah\".isalpha()"
   ]
  },
  {
   "cell_type": "code",
   "execution_count": 61,
   "metadata": {},
   "outputs": [
    {
     "data": {
      "text/plain": [
       "False"
      ]
     },
     "execution_count": 61,
     "metadata": {},
     "output_type": "execute_result"
    }
   ],
   "source": [
    "\"merah234\".isalpha()"
   ]
  },
  {
   "cell_type": "markdown",
   "metadata": {},
   "source": [
    "`isalnum()`"
   ]
  },
  {
   "cell_type": "code",
   "execution_count": 62,
   "metadata": {},
   "outputs": [
    {
     "data": {
      "text/plain": [
       "True"
      ]
     },
     "execution_count": 62,
     "metadata": {},
     "output_type": "execute_result"
    }
   ],
   "source": [
    "\"uud45\".isalnum()"
   ]
  },
  {
   "cell_type": "code",
   "execution_count": 63,
   "metadata": {},
   "outputs": [
    {
     "data": {
      "text/plain": [
       "True"
      ]
     },
     "execution_count": 63,
     "metadata": {},
     "output_type": "execute_result"
    }
   ],
   "source": [
    "\"uud\".isalnum()"
   ]
  },
  {
   "cell_type": "markdown",
   "metadata": {},
   "source": [
    "`isdecimal()`"
   ]
  },
  {
   "cell_type": "code",
   "execution_count": 64,
   "metadata": {},
   "outputs": [
    {
     "data": {
      "text/plain": [
       "True"
      ]
     },
     "execution_count": 64,
     "metadata": {},
     "output_type": "execute_result"
    }
   ],
   "source": [
    "\"123\".isdecimal()"
   ]
  },
  {
   "cell_type": "markdown",
   "metadata": {},
   "source": [
    "`isspace()`"
   ]
  },
  {
   "cell_type": "code",
   "execution_count": 65,
   "metadata": {},
   "outputs": [
    {
     "data": {
      "text/plain": [
       "True"
      ]
     },
     "execution_count": 65,
     "metadata": {},
     "output_type": "execute_result"
    }
   ],
   "source": [
    "\"   \".isspace()"
   ]
  },
  {
   "cell_type": "markdown",
   "metadata": {},
   "source": [
    "`istitle`"
   ]
  },
  {
   "cell_type": "code",
   "execution_count": 66,
   "metadata": {},
   "outputs": [
    {
     "data": {
      "text/plain": [
       "True"
      ]
     },
     "execution_count": 66,
     "metadata": {},
     "output_type": "execute_result"
    }
   ],
   "source": [
    "\"Ini Adalah Judul Laporan\".istitle()"
   ]
  },
  {
   "cell_type": "code",
   "execution_count": 67,
   "metadata": {},
   "outputs": [
    {
     "data": {
      "text/plain": [
       "False"
      ]
     },
     "execution_count": 67,
     "metadata": {},
     "output_type": "execute_result"
    }
   ],
   "source": [
    "\"Ini not Judul Laporan\".istitle()"
   ]
  },
  {
   "cell_type": "markdown",
   "metadata": {},
   "source": [
    "> `Metode isX` akan membantu misalnya dalam validasi input user"
   ]
  },
  {
   "cell_type": "code",
   "execution_count": 68,
   "metadata": {},
   "outputs": [
    {
     "name": "stdout",
     "output_type": "stream",
     "text": [
      "Masukkan umur kamu:\n"
     ]
    },
    {
     "name": "stdin",
     "output_type": "stream",
     "text": [
      " tujuh belas\n"
     ]
    },
    {
     "name": "stdout",
     "output_type": "stream",
     "text": [
      "Silahkan masukkan angka untuk umur\n",
      "Masukkan umur kamu:\n"
     ]
    },
    {
     "name": "stdin",
     "output_type": "stream",
     "text": [
      " 17\n"
     ]
    }
   ],
   "source": [
    "while True:\n",
    "    print(\"Masukkan umur kamu:\")\n",
    "    umur = input()\n",
    "    if umur.isdecimal():\n",
    "        break\n",
    "    print(\"Silahkan masukkan angka untuk umur\")"
   ]
  },
  {
   "cell_type": "code",
   "execution_count": 69,
   "metadata": {},
   "outputs": [
    {
     "name": "stdout",
     "output_type": "stream",
     "text": [
      "Masukkan sandi baru (huruf dan angka)\n"
     ]
    },
    {
     "name": "stdin",
     "output_type": "stream",
     "text": [
      " rah45!a\n"
     ]
    },
    {
     "name": "stdout",
     "output_type": "stream",
     "text": [
      "Sandi hanya huruf dan angka\n",
      "Masukkan sandi baru (huruf dan angka)\n"
     ]
    },
    {
     "name": "stdin",
     "output_type": "stream",
     "text": [
      " rahasia\n"
     ]
    }
   ],
   "source": [
    "while True:\n",
    "    print(\"Masukkan sandi baru (huruf dan angka)\")\n",
    "    sandi = input()\n",
    "    if sandi.isalnum():\n",
    "        break\n",
    "    print(\"Sandi hanya huruf dan angka\")"
   ]
  },
  {
   "cell_type": "markdown",
   "metadata": {},
   "source": [
    "> Fungsi `startswith()` dan `endswith()` akan mengembalikan nilai `True` berdasarkan nilai awalan atau akhiran string. "
   ]
  },
  {
   "cell_type": "markdown",
   "metadata": {},
   "source": [
    "> Fungsi/method ini akan sangat efisien jika kita hanya perlu membandingkan `awal` atau `akhir string,` tanpa perlu melakukan splitting dan menggunakan statement perbandingan sama dengan (==)."
   ]
  },
  {
   "cell_type": "markdown",
   "metadata": {},
   "source": [
    "`startswith()`"
   ]
  },
  {
   "cell_type": "code",
   "execution_count": 70,
   "metadata": {},
   "outputs": [
    {
     "data": {
      "text/plain": [
       "True"
      ]
     },
     "execution_count": 70,
     "metadata": {},
     "output_type": "execute_result"
    }
   ],
   "source": [
    "\"Garuda pancasila\".startswith(\"Garuda\")"
   ]
  },
  {
   "cell_type": "code",
   "execution_count": 71,
   "metadata": {},
   "outputs": [
    {
     "data": {
      "text/plain": [
       "True"
      ]
     },
     "execution_count": 71,
     "metadata": {},
     "output_type": "execute_result"
    }
   ],
   "source": [
    "\"Garuda pancasila\".startswith(\"Garuda pancasila\")"
   ]
  },
  {
   "cell_type": "markdown",
   "metadata": {},
   "source": [
    "`endswith()`"
   ]
  },
  {
   "cell_type": "code",
   "execution_count": 72,
   "metadata": {},
   "outputs": [
    {
     "data": {
      "text/plain": [
       "True"
      ]
     },
     "execution_count": 72,
     "metadata": {},
     "output_type": "execute_result"
    }
   ],
   "source": [
    "\"Garuda pancasila\".endswith(\"pancasila\")"
   ]
  },
  {
   "cell_type": "code",
   "execution_count": 73,
   "metadata": {},
   "outputs": [
    {
     "data": {
      "text/plain": [
       "True"
      ]
     },
     "execution_count": 73,
     "metadata": {},
     "output_type": "execute_result"
    }
   ],
   "source": [
    "\"Garuda pancasila\".endswith(\"Garuda pancasila\")"
   ]
  },
  {
   "cell_type": "markdown",
   "metadata": {},
   "source": [
    "#### Metode join() dan split() dari String"
   ]
  },
  {
   "cell_type": "markdown",
   "metadata": {},
   "source": [
    "> Fungsi `join()` berguna saat Kita memiliki sejumlah string yang perlu digabungkan. "
   ]
  },
  {
   "cell_type": "code",
   "execution_count": 1,
   "metadata": {},
   "outputs": [
    {
     "data": {
      "text/plain": [
       "'kucing, kelinci, anjing'"
      ]
     },
     "execution_count": 1,
     "metadata": {},
     "output_type": "execute_result"
    }
   ],
   "source": [
    "\", \".join(['kucing', 'kelinci', 'anjing'])"
   ]
  },
  {
   "cell_type": "code",
   "execution_count": 2,
   "metadata": {},
   "outputs": [
    {
     "data": {
      "text/plain": [
       "'Nama saya adalah Fatimah'"
      ]
     },
     "execution_count": 2,
     "metadata": {},
     "output_type": "execute_result"
    }
   ],
   "source": [
    "\" \".join(['Nama','saya', 'adalah', 'Fatimah'])"
   ]
  },
  {
   "cell_type": "code",
   "execution_count": 3,
   "metadata": {},
   "outputs": [
    {
     "data": {
      "text/plain": [
       "'NamaLOVEsayaLOVEadalahLOVEIsmail'"
      ]
     },
     "execution_count": 3,
     "metadata": {},
     "output_type": "execute_result"
    }
   ],
   "source": [
    "\"LOVE\".join(['Nama','saya', 'adalah', 'Ismail'])"
   ]
  },
  {
   "cell_type": "markdown",
   "metadata": {},
   "source": [
    "> metode `split()` memisahkan substring berdasarkan delimiter tertentu (defaultnya adalah whitespace - spasi, tab, atau newline)"
   ]
  },
  {
   "cell_type": "code",
   "execution_count": 4,
   "metadata": {},
   "outputs": [
    {
     "data": {
      "text/plain": [
       "['Nama', 'saya', 'adalah', 'Afizah']"
      ]
     },
     "execution_count": 4,
     "metadata": {},
     "output_type": "execute_result"
    }
   ],
   "source": [
    "\"Nama saya adalah Afizah\".split()"
   ]
  },
  {
   "cell_type": "code",
   "execution_count": 5,
   "metadata": {},
   "outputs": [
    {
     "data": {
      "text/plain": [
       "['Nama', 'saya', 'adalah', 'Muhammad']"
      ]
     },
     "execution_count": 5,
     "metadata": {},
     "output_type": "execute_result"
    }
   ],
   "source": [
    "\"NamaABCsayaABCadalahABCMuhammad\".split(\"ABC\")   # Mengubah parameter split (delimiter) "
   ]
  },
  {
   "cell_type": "code",
   "execution_count": 6,
   "metadata": {},
   "outputs": [
    {
     "data": {
      "text/plain": [
       "['N', 'm', 'ABCs', 'y', 'ABC', 'd', 'l', 'hABCMuh', 'mm', 'd']"
      ]
     },
     "execution_count": 6,
     "metadata": {},
     "output_type": "execute_result"
    }
   ],
   "source": [
    "\"NamaABCsayaABCadalahABCMuhammad\".split(\"a\")"
   ]
  },
  {
   "cell_type": "markdown",
   "metadata": {},
   "source": [
    "> Salah satu penggunaan paling sering dari `split()` adalah memisahkan setiap baris pada `string multiline`"
   ]
  },
  {
   "cell_type": "code",
   "execution_count": 7,
   "metadata": {},
   "outputs": [
    {
     "data": {
      "text/plain": [
       "['Sudahkah kita memohon ampun kepada Allah',\n",
       " 'dengan penuh penyesalan,',\n",
       " 'di barengi dengan tetesan air mata kerinduan',\n",
       " 'akan pengampunan dari Allah?',\n",
       " '']"
      ]
     },
     "execution_count": 7,
     "metadata": {},
     "output_type": "execute_result"
    }
   ],
   "source": [
    "t = '''Sudahkah kita memohon ampun kepada Allah\n",
    "dengan penuh penyesalan,\n",
    "di barengi dengan tetesan air mata kerinduan\n",
    "akan pengampunan dari Allah?\n",
    "'''\n",
    "\n",
    "t.split('\\n')"
   ]
  },
  {
   "cell_type": "markdown",
   "metadata": {},
   "source": [
    "#### Teks rata kanan/kiri/tengah"
   ]
  },
  {
   "cell_type": "markdown",
   "metadata": {},
   "source": [
    "> Kita dapat merapikan pencetakan teks di layar dengan `rjust(),` `ljust()` atau `center().` rjust() dan ljust() akan menambahkan spasi pada string untuk membuatnya sesuai (misalnya rata kiri atau rata kanan). Argumennya berupa `integer` yang merupakan panjang teks secara keseluruhan (bukan jumlah spasi yang ditambahkan)"
   ]
  },
  {
   "cell_type": "markdown",
   "metadata": {},
   "source": [
    "`rjust()`"
   ]
  },
  {
   "cell_type": "code",
   "execution_count": 8,
   "metadata": {},
   "outputs": [
    {
     "data": {
      "text/plain": [
       "'   Selamat'"
      ]
     },
     "execution_count": 8,
     "metadata": {},
     "output_type": "execute_result"
    }
   ],
   "source": [
    "'Selamat'.rjust(10)"
   ]
  },
  {
   "cell_type": "code",
   "execution_count": 9,
   "metadata": {},
   "outputs": [
    {
     "data": {
      "text/plain": [
       "'         Ulang Tahun'"
      ]
     },
     "execution_count": 9,
     "metadata": {},
     "output_type": "execute_result"
    }
   ],
   "source": [
    "'Ulang Tahun'.rjust(20)"
   ]
  },
  {
   "cell_type": "code",
   "execution_count": 14,
   "metadata": {},
   "outputs": [
    {
     "data": {
      "text/plain": [
       "'****Amanah'"
      ]
     },
     "execution_count": 14,
     "metadata": {},
     "output_type": "execute_result"
    }
   ],
   "source": [
    "'Amanah'.rjust(10, '*')"
   ]
  },
  {
   "cell_type": "markdown",
   "metadata": {},
   "source": [
    "`ljust()`"
   ]
  },
  {
   "cell_type": "code",
   "execution_count": 13,
   "metadata": {},
   "outputs": [
    {
     "data": {
      "text/plain": [
       "'Jagalah amarah      '"
      ]
     },
     "execution_count": 13,
     "metadata": {},
     "output_type": "execute_result"
    }
   ],
   "source": [
    "'Jagalah amarah'.ljust(20)"
   ]
  },
  {
   "cell_type": "code",
   "execution_count": 15,
   "metadata": {},
   "outputs": [
    {
     "data": {
      "text/plain": [
       "'Jujur+++++++++++++++'"
      ]
     },
     "execution_count": 15,
     "metadata": {},
     "output_type": "execute_result"
    }
   ],
   "source": [
    "'Jujur'.ljust(20, '+')"
   ]
  },
  {
   "cell_type": "markdown",
   "metadata": {},
   "source": [
    "`center()`"
   ]
  },
  {
   "cell_type": "code",
   "execution_count": 16,
   "metadata": {},
   "outputs": [
    {
     "data": {
      "text/plain": [
       "'   Selamat datang   '"
      ]
     },
     "execution_count": 16,
     "metadata": {},
     "output_type": "execute_result"
    }
   ],
   "source": [
    "'Selamat datang'.center(20)"
   ]
  },
  {
   "cell_type": "code",
   "execution_count": 17,
   "metadata": {},
   "outputs": [
    {
     "data": {
      "text/plain": [
       "'==Selamat Berjuang=='"
      ]
     },
     "execution_count": 17,
     "metadata": {},
     "output_type": "execute_result"
    }
   ],
   "source": [
    "'Selamat Berjuang'.center(20, '=')"
   ]
  },
  {
   "cell_type": "markdown",
   "metadata": {},
   "source": [
    "#### Mengahpus Whitespace"
   ]
  },
  {
   "cell_type": "markdown",
   "metadata": {},
   "source": [
    "> Metode `strip()` akan menghapus `whitespace` pada bagian awal atau akhir string. `lstrip()` dan `rstrip()` akan menghapus sesuai dengan namanya, awal saja atau akhir saja"
   ]
  },
  {
   "cell_type": "code",
   "execution_count": 20,
   "metadata": {},
   "outputs": [
    {
     "data": {
      "text/plain": [
       "'Selamat Pagi'"
      ]
     },
     "execution_count": 20,
     "metadata": {},
     "output_type": "execute_result"
    }
   ],
   "source": [
    "p = '     Selamat Pagi     '\n",
    "p.strip()   # Metode strip()"
   ]
  },
  {
   "cell_type": "code",
   "execution_count": 21,
   "metadata": {},
   "outputs": [
    {
     "data": {
      "text/plain": [
       "'Selamat Pagi     '"
      ]
     },
     "execution_count": 21,
     "metadata": {},
     "output_type": "execute_result"
    }
   ],
   "source": [
    "p.lstrip()  # Metode lstrip()"
   ]
  },
  {
   "cell_type": "code",
   "execution_count": 22,
   "metadata": {},
   "outputs": [
    {
     "data": {
      "text/plain": [
       "'     Selamat Pagi'"
      ]
     },
     "execution_count": 22,
     "metadata": {},
     "output_type": "execute_result"
    }
   ],
   "source": [
    "p.rstrip()  # Metode rstrip()"
   ]
  },
  {
   "cell_type": "markdown",
   "metadata": {},
   "source": [
    "> Kita juga bisa menentukan mana karakter atau bagian yang ingin dihilangkan"
   ]
  },
  {
   "cell_type": "code",
   "execution_count": 43,
   "metadata": {},
   "outputs": [
    {
     "data": {
      "text/plain": [
       "'AkuAkuRinduAkuPadamuAkuAku'"
      ]
     },
     "execution_count": 43,
     "metadata": {},
     "output_type": "execute_result"
    }
   ],
   "source": [
    "k = 'AkuAkuRinduAkuPadamuAkuAku'\n",
    "k"
   ]
  },
  {
   "cell_type": "code",
   "execution_count": 44,
   "metadata": {},
   "outputs": [
    {
     "data": {
      "text/plain": [
       "'RinduAkuPadam'"
      ]
     },
     "execution_count": 44,
     "metadata": {},
     "output_type": "execute_result"
    }
   ],
   "source": [
    "k.strip('kuA')"
   ]
  },
  {
   "cell_type": "markdown",
   "metadata": {},
   "source": [
    "#### Mengganti string/substring dengan replace()"
   ]
  },
  {
   "cell_type": "markdown",
   "metadata": {},
   "source": [
    "> `replace()` adalah fungsi untuk mengembalikan string baru dalam kondisi `substring` telah tergantikan dengan parameter yang dimasukkan"
   ]
  },
  {
   "cell_type": "code",
   "execution_count": 48,
   "metadata": {},
   "outputs": [
    {
     "data": {
      "text/plain": [
       "'Harus semangat semangat semangat semangat'"
      ]
     },
     "execution_count": 48,
     "metadata": {},
     "output_type": "execute_result"
    }
   ],
   "source": [
    "s = 'Harus semangat semangat semangat semangat'\n",
    "s"
   ]
  },
  {
   "cell_type": "code",
   "execution_count": 50,
   "metadata": {},
   "outputs": [
    {
     "name": "stdout",
     "output_type": "stream",
     "text": [
      "Harus SEMANGAT SEMANGAT SEMANGAT SEMANGAT\n"
     ]
    }
   ],
   "source": [
    "print(s.replace('semangat', 'SEMANGAT'))"
   ]
  },
  {
   "cell_type": "code",
   "execution_count": 51,
   "metadata": {},
   "outputs": [
    {
     "name": "stdout",
     "output_type": "stream",
     "text": [
      "Harus SEMANGAT SEMANGAT semangat semangat\n"
     ]
    }
   ],
   "source": [
    "print(s.replace('semangat', 'SEMANGAT', 2))"
   ]
  },
  {
   "cell_type": "markdown",
   "metadata": {},
   "source": [
    "#### Operasi pada urutan"
   ]
  },
  {
   "cell_type": "markdown",
   "metadata": {},
   "source": [
    "`len()`"
   ]
  },
  {
   "cell_type": "markdown",
   "metadata": {},
   "source": [
    "> Salah satu fungsi yang paling bermanfaat untuk `List atau String adalah len()` yang akan menghitung `panjang` atau `banyaknya` elemen atau `jumlah karakter` dari List"
   ]
  },
  {
   "cell_type": "code",
   "execution_count": 53,
   "metadata": {},
   "outputs": [],
   "source": [
    "l = [1, 2, 2, 4, 3, 6, 7, 7, 4]\n",
    "s = set(l)\n",
    "x = \"Selamat Siang\""
   ]
  },
  {
   "cell_type": "code",
   "execution_count": 55,
   "metadata": {},
   "outputs": [
    {
     "name": "stdout",
     "output_type": "stream",
     "text": [
      "[1, 2, 2, 4, 3, 6, 7, 7, 4]\n",
      "Banyaknya : 9\n"
     ]
    }
   ],
   "source": [
    "print(l)\n",
    "print('Banyaknya :', len(l))"
   ]
  },
  {
   "cell_type": "code",
   "execution_count": 57,
   "metadata": {},
   "outputs": [
    {
     "name": "stdout",
     "output_type": "stream",
     "text": [
      "{1, 2, 3, 4, 6, 7}\n",
      "Banyaknya : 6\n"
     ]
    }
   ],
   "source": [
    "print(s)\n",
    "print('Banyaknya :', len(s))"
   ]
  },
  {
   "cell_type": "code",
   "execution_count": 59,
   "metadata": {},
   "outputs": [
    {
     "name": "stdout",
     "output_type": "stream",
     "text": [
      "Selamat Siang\n",
      "Jumlah karakter : 13\n"
     ]
    }
   ],
   "source": [
    "print(x)\n",
    "print('Jumlah karakter :', len(x))"
   ]
  },
  {
   "cell_type": "markdown",
   "metadata": {},
   "source": [
    "#### Penggabungan dan Replikasi"
   ]
  },
  {
   "cell_type": "markdown",
   "metadata": {},
   "source": [
    "> Pada List juga dimungkinkan adanya `penggabungan (+)` dan `replikasi (*).`"
   ]
  },
  {
   "cell_type": "code",
   "execution_count": 60,
   "metadata": {},
   "outputs": [
    {
     "data": {
      "text/plain": [
       "[2, 3, 4, 'B', 'C', 'D']"
      ]
     },
     "execution_count": 60,
     "metadata": {},
     "output_type": "execute_result"
    }
   ],
   "source": [
    "[2, 3, 4] + ['B', 'C', 'D']"
   ]
  },
  {
   "cell_type": "code",
   "execution_count": 62,
   "metadata": {},
   "outputs": [
    {
     "data": {
      "text/plain": [
       "['P', 'E', 'N', 'Y', 'P', 'E', 'N', 'Y', 'P', 'E', 'N', 'Y']"
      ]
     },
     "execution_count": 62,
     "metadata": {},
     "output_type": "execute_result"
    }
   ],
   "source": [
    "['P', 'E', 'N', 'Y'] * 3"
   ]
  },
  {
   "cell_type": "code",
   "execution_count": 63,
   "metadata": {},
   "outputs": [
    {
     "data": {
      "text/plain": [
       "[2, 3, 4, 'S', 'A', 'W']"
      ]
     },
     "execution_count": 63,
     "metadata": {},
     "output_type": "execute_result"
    }
   ],
   "source": [
    "s = [2, 3, 4]\n",
    "s = s + ['S', 'A', 'W']\n",
    "s"
   ]
  },
  {
   "cell_type": "markdown",
   "metadata": {},
   "source": [
    "> Fungsi `*` juga dapat di manfaatkan untuk inisialisasi `List`"
   ]
  },
  {
   "cell_type": "code",
   "execution_count": 69,
   "metadata": {},
   "outputs": [
    {
     "data": {
      "text/plain": [
       "[0, 0, 0, 0, 0, 0, 0, 0, 0, 0]"
      ]
     },
     "execution_count": 69,
     "metadata": {},
     "output_type": "execute_result"
    }
   ],
   "source": [
    "arr = [0] * 10\n",
    "arr"
   ]
  },
  {
   "cell_type": "code",
   "execution_count": 70,
   "metadata": {},
   "outputs": [
    {
     "data": {
      "text/plain": [
       "10"
      ]
     },
     "execution_count": 70,
     "metadata": {},
     "output_type": "execute_result"
    }
   ],
   "source": [
    "len(arr)"
   ]
  },
  {
   "cell_type": "markdown",
   "metadata": {},
   "source": [
    "#### Range"
   ]
  },
  {
   "cell_type": "markdown",
   "metadata": {},
   "source": [
    "> Fungsi `range()` memberikan deret bilangan dengan `pola` tertentu. Untuk melakukan perulangan (misalnya for) dalam mengakses elemen list, Kita dapat menggunakan fungsi `range()` pada Python. "
   ]
  },
  {
   "cell_type": "code",
   "execution_count": 72,
   "metadata": {},
   "outputs": [
    {
     "name": "stdout",
     "output_type": "stream",
     "text": [
      "0\n",
      "1\n",
      "2\n",
      "3\n",
      "4\n",
      "5\n",
      "6\n"
     ]
    }
   ],
   "source": [
    "for i in range(7):   # Range dengan 1 parameter n\n",
    "    print(i)"
   ]
  },
  {
   "cell_type": "code",
   "execution_count": 76,
   "metadata": {},
   "outputs": [
    {
     "name": "stdout",
     "output_type": "stream",
     "text": [
      "2\n",
      "3\n",
      "4\n",
      "5\n",
      "6\n"
     ]
    }
   ],
   "source": [
    "for i in range(2, 7):   # Range dengan 2 parameter n\n",
    "    print(i)"
   ]
  },
  {
   "cell_type": "code",
   "execution_count": 80,
   "metadata": {},
   "outputs": [
    {
     "data": {
      "text/plain": [
       "[1, 3, 5, 7]"
      ]
     },
     "execution_count": 80,
     "metadata": {},
     "output_type": "execute_result"
    }
   ],
   "source": [
    "# Range dengan 3 parameter n, p, q\n",
    "[_ for _ in range(1, 9, 2)]   # list comprehension"
   ]
  },
  {
   "cell_type": "markdown",
   "metadata": {},
   "source": [
    "#### in dan not in"
   ]
  },
  {
   "cell_type": "markdown",
   "metadata": {},
   "source": [
    "> Untuk mengetahui sebuah nilai atau objek ada dalam list, Kita dapat menggunakan operator `in` dan `not in.` Fungsi ini akan mengembalikan `nilai boolean True atau False.` "
   ]
  },
  {
   "cell_type": "markdown",
   "metadata": {},
   "source": [
    "`in`"
   ]
  },
  {
   "cell_type": "code",
   "execution_count": 81,
   "metadata": {},
   "outputs": [
    {
     "data": {
      "text/plain": [
       "True"
      ]
     },
     "execution_count": 81,
     "metadata": {},
     "output_type": "execute_result"
    }
   ],
   "source": [
    "'ismail' in ['agus', 'ayda', 'sulaiman', 'muhammad', 'ismail']"
   ]
  },
  {
   "cell_type": "code",
   "execution_count": 83,
   "metadata": {},
   "outputs": [
    {
     "data": {
      "text/plain": [
       "False"
      ]
     },
     "execution_count": 83,
     "metadata": {},
     "output_type": "execute_result"
    }
   ],
   "source": [
    "nama = ['agus', 'ayda', 'sulaiman', 'Ashfa', 'ismail']\n",
    "'fatimah' in nama"
   ]
  },
  {
   "cell_type": "markdown",
   "metadata": {},
   "source": [
    "`not in`"
   ]
  },
  {
   "cell_type": "code",
   "execution_count": 84,
   "metadata": {},
   "outputs": [
    {
     "data": {
      "text/plain": [
       "False"
      ]
     },
     "execution_count": 84,
     "metadata": {},
     "output_type": "execute_result"
    }
   ],
   "source": [
    "'Ashfa' not in nama"
   ]
  },
  {
   "cell_type": "code",
   "execution_count": 85,
   "metadata": {},
   "outputs": [
    {
     "data": {
      "text/plain": [
       "True"
      ]
     },
     "execution_count": 85,
     "metadata": {},
     "output_type": "execute_result"
    }
   ],
   "source": [
    "'Hidayah' not in nama"
   ]
  },
  {
   "cell_type": "markdown",
   "metadata": {},
   "source": [
    "#### Memberikan nilai (assignment)"
   ]
  },
  {
   "cell_type": "markdown",
   "metadata": {},
   "source": [
    "> Kita dapat `memberikan nilai` ke beberapa variabel sekaligus dari element `List` atau `Tuple.` Sehingga tanpa perlu menandai satu-per-satu seperti"
   ]
  },
  {
   "cell_type": "code",
   "execution_count": 91,
   "metadata": {},
   "outputs": [
    {
     "data": {
      "text/plain": [
       "[99, 'ABC', 'Biru']"
      ]
     },
     "execution_count": 91,
     "metadata": {},
     "output_type": "execute_result"
    }
   ],
   "source": [
    "biasa = [99, 'ABC', 'Biru']\n",
    "angka = biasa[0]\n",
    "huruf = biasa[1]\n",
    "warna = biasa[2]\n",
    "biasa"
   ]
  },
  {
   "cell_type": "code",
   "execution_count": 92,
   "metadata": {},
   "outputs": [
    {
     "data": {
      "text/plain": [
       "[99, 'ABC', 'Biru']"
      ]
     },
     "execution_count": 92,
     "metadata": {},
     "output_type": "execute_result"
    }
   ],
   "source": [
    "li = [99, 'ABC', 'Biru']   # Dari List\n",
    "angka, huruf, warna = li\n",
    "li"
   ]
  },
  {
   "cell_type": "code",
   "execution_count": 93,
   "metadata": {},
   "outputs": [
    {
     "data": {
      "text/plain": [
       "(99, 'ABC', 'Biru')"
      ]
     },
     "execution_count": 93,
     "metadata": {},
     "output_type": "execute_result"
    }
   ],
   "source": [
    "tu = (99, 'ABC', 'Biru')   # Dari Tuple\n",
    "angka, huruf, warna = tu\n",
    "tu"
   ]
  },
  {
   "cell_type": "markdown",
   "metadata": {},
   "source": [
    "> Penggunaan `assignment` pada multi variabel ini dapat di gunakan untuk `menukar nilai dua atau lebih variabel`"
   ]
  },
  {
   "cell_type": "code",
   "execution_count": 99,
   "metadata": {},
   "outputs": [
    {
     "name": "stdout",
     "output_type": "stream",
     "text": [
      "Ismail\n",
      "Fatimah\n"
     ]
    }
   ],
   "source": [
    "i, f = 'Ismail', 'Fatimah'\n",
    "print(i)\n",
    "print(f)"
   ]
  },
  {
   "cell_type": "code",
   "execution_count": 100,
   "metadata": {},
   "outputs": [
    {
     "name": "stdout",
     "output_type": "stream",
     "text": [
      "Fatimah\n",
      "Ismail\n"
     ]
    }
   ],
   "source": [
    "i, f = f, i\n",
    "print(i)\n",
    "print(f)"
   ]
  },
  {
   "cell_type": "markdown",
   "metadata": {},
   "source": [
    "#### Sort"
   ]
  },
  {
   "cell_type": "markdown",
   "metadata": {},
   "source": [
    "> `List` dapat diurutkan dengan method `sort()`"
   ]
  },
  {
   "cell_type": "markdown",
   "metadata": {},
   "source": [
    "> `Tiga hal yang perlu Kita ingat dalam metode sort:`\n",
    "1. Metode sort langsung melakukan pengurutan pada variabel yang dioperasikannya, sehingga `tidak perlu operasi assignment (=).`\n",
    "2. Metode sort `tidak dapat mengurutkan list yang memiliki angka dan string sekaligus`. \n",
    "3. Metode sort menggunakan `urutan ASCII,` sehingga nilai `huruf kapital (uppercase) akan lebih dahulu` dibandingkan `huruf kecil (lowercase).` "
   ]
  },
  {
   "cell_type": "code",
   "execution_count": 102,
   "metadata": {},
   "outputs": [
    {
     "data": {
      "text/plain": [
       "[-9, 1, 2, 2.14, 5]"
      ]
     },
     "execution_count": 102,
     "metadata": {},
     "output_type": "execute_result"
    }
   ],
   "source": [
    "x = [2, 5, 2.14, 1, -9]\n",
    "x.sort()\n",
    "x"
   ]
  },
  {
   "cell_type": "code",
   "execution_count": 105,
   "metadata": {},
   "outputs": [
    {
     "data": {
      "text/plain": [
       "['Tuti', 'bianka', 'caca', 'iS', 'zaza']"
      ]
     },
     "execution_count": 105,
     "metadata": {},
     "output_type": "execute_result"
    }
   ],
   "source": [
    "y = ['zaza', 'iS', 'Tuti', 'bianka', 'caca']\n",
    "y.sort()\n",
    "y"
   ]
  },
  {
   "cell_type": "markdown",
   "metadata": {},
   "source": [
    "> Kita dapat memasukkan keyword `reverse=True` untuk menjadikan `urutan yang sebaliknya.`"
   ]
  },
  {
   "cell_type": "code",
   "execution_count": 104,
   "metadata": {},
   "outputs": [
    {
     "data": {
      "text/plain": [
       "['zaza', 'tuti', 'iS', 'caca', 'bianka']"
      ]
     },
     "execution_count": 104,
     "metadata": {},
     "output_type": "execute_result"
    }
   ],
   "source": [
    "y.sort(reverse=True)\n",
    "y"
   ]
  },
  {
   "cell_type": "markdown",
   "metadata": {},
   "source": [
    "#### Manipulasi String"
   ]
  },
  {
   "cell_type": "markdown",
   "metadata": {},
   "source": [
    "> Kita dapat melakukan penggabungan, pemisahan, sub-string, penambahan/pengurangan spasi, konversi huruf kapital, format strings, dan sebagainya."
   ]
  },
  {
   "cell_type": "markdown",
   "metadata": {},
   "source": [
    "> Beberapa contoh Escape Character\n",
    "* `\\'`   Single quote\n",
    "* `\\\"`   Double quote\n",
    "* `\\t`   Tab\n",
    "* `\\n`   Newline (line break)\n",
    "* `\\\\`   Backslash\n"
   ]
  },
  {
   "cell_type": "code",
   "execution_count": 110,
   "metadata": {},
   "outputs": [
    {
     "name": "stdout",
     "output_type": "stream",
     "text": [
      "Cukuplah bagimu\n",
      "untuk melakukan hal-hal\n",
      "yang bermanfaat kepada setiap orang\n"
     ]
    }
   ],
   "source": [
    "print(\"Cukuplah bagimu\\nuntuk melakukan hal-hal\\nyang bermanfaat kepada setiap orang\")"
   ]
  },
  {
   "cell_type": "code",
   "execution_count": 111,
   "metadata": {},
   "outputs": [
    {
     "name": "stdout",
     "output_type": "stream",
     "text": [
      "Kegagalan dan kehinaan adalah\n",
      "di saat semua perbuatan telah mengotori hatimu\n",
      "dengan penuh kebencian dan dendam\n"
     ]
    }
   ],
   "source": [
    "baris = \"\"\"Kegagalan dan kehinaan adalah\n",
    "di saat semua perbuatan telah mengotori hatimu\n",
    "dengan penuh kebencian dan dendam\"\"\"\n",
    "print(baris)"
   ]
  },
  {
   "cell_type": "markdown",
   "metadata": {},
   "source": [
    "### Raw Strings"
   ]
  },
  {
   "cell_type": "markdown",
   "metadata": {},
   "source": [
    "> `Raw Strings` digunakan untuk `regex` atau beberapa implementasi lain yang sangat bergantung pada keberadaan backslash. Untuk menjadikan raw string, `tambahkan huruf r` sebelum pembuka string"
   ]
  },
  {
   "cell_type": "code",
   "execution_count": 113,
   "metadata": {},
   "outputs": [
    {
     "name": "stdout",
     "output_type": "stream",
     "text": [
      "Hati adalah tempat Allah subhanahu wata\\'ala melihat ku\n"
     ]
    }
   ],
   "source": [
    "print(r\"Hati adalah tempat Allah subhanahu wata\\'ala melihat ku\")"
   ]
  },
  {
   "cell_type": "markdown",
   "metadata": {},
   "source": [
    "### Jenis-jenis operator"
   ]
  },
  {
   "cell_type": "markdown",
   "metadata": {},
   "source": [
    "#### `Tambah`"
   ]
  },
  {
   "cell_type": "code",
   "execution_count": 114,
   "metadata": {},
   "outputs": [
    {
     "data": {
      "text/plain": [
       "7"
      ]
     },
     "execution_count": 114,
     "metadata": {},
     "output_type": "execute_result"
    }
   ],
   "source": [
    "4 + 3"
   ]
  },
  {
   "cell_type": "markdown",
   "metadata": {},
   "source": [
    "#### `Kurang`"
   ]
  },
  {
   "cell_type": "code",
   "execution_count": 116,
   "metadata": {},
   "outputs": [
    {
     "data": {
      "text/plain": [
       "17"
      ]
     },
     "execution_count": 116,
     "metadata": {},
     "output_type": "execute_result"
    }
   ],
   "source": [
    "50 - 33"
   ]
  },
  {
   "cell_type": "markdown",
   "metadata": {},
   "source": [
    "#### `Perkalian`"
   ]
  },
  {
   "cell_type": "code",
   "execution_count": 117,
   "metadata": {},
   "outputs": [
    {
     "data": {
      "text/plain": [
       "9"
      ]
     },
     "execution_count": 117,
     "metadata": {},
     "output_type": "execute_result"
    }
   ],
   "source": [
    "3 * 3"
   ]
  },
  {
   "cell_type": "code",
   "execution_count": 119,
   "metadata": {},
   "outputs": [
    {
     "data": {
      "text/plain": [
       "'kamu kamu kamu '"
      ]
     },
     "execution_count": 119,
     "metadata": {},
     "output_type": "execute_result"
    }
   ],
   "source": [
    "'kamu ' * 3"
   ]
  },
  {
   "cell_type": "code",
   "execution_count": 51,
   "metadata": {},
   "outputs": [
    {
     "data": {
      "text/plain": [
       "6"
      ]
     },
     "execution_count": 51,
     "metadata": {},
     "output_type": "execute_result"
    }
   ],
   "source": [
    "a = 2\n",
    "a = a * 3\n",
    "a"
   ]
  },
  {
   "cell_type": "code",
   "execution_count": 55,
   "metadata": {},
   "outputs": [
    {
     "data": {
      "text/plain": [
       "6"
      ]
     },
     "execution_count": 55,
     "metadata": {},
     "output_type": "execute_result"
    }
   ],
   "source": [
    "cara_singkat = 2\n",
    "cara_singkat *= 3\n",
    "cara_singkat"
   ]
  },
  {
   "cell_type": "markdown",
   "metadata": {},
   "source": [
    "> `[operand] [operasi] = expression.`"
   ]
  },
  {
   "cell_type": "markdown",
   "metadata": {},
   "source": [
    "#### `Pangkat`"
   ]
  },
  {
   "cell_type": "code",
   "execution_count": 121,
   "metadata": {},
   "outputs": [
    {
     "data": {
      "text/plain": [
       "81"
      ]
     },
     "execution_count": 121,
     "metadata": {},
     "output_type": "execute_result"
    }
   ],
   "source": [
    "3 ** 4"
   ]
  },
  {
   "cell_type": "code",
   "execution_count": 122,
   "metadata": {},
   "outputs": [
    {
     "data": {
      "text/plain": [
       "4096"
      ]
     },
     "execution_count": 122,
     "metadata": {},
     "output_type": "execute_result"
    }
   ],
   "source": [
    "4 ** 6"
   ]
  },
  {
   "cell_type": "markdown",
   "metadata": {},
   "source": [
    "#### `Pembagian`"
   ]
  },
  {
   "cell_type": "code",
   "execution_count": 123,
   "metadata": {},
   "outputs": [
    {
     "data": {
      "text/plain": [
       "8.333333333333334"
      ]
     },
     "execution_count": 123,
     "metadata": {},
     "output_type": "execute_result"
    }
   ],
   "source": [
    "25 / 3"
   ]
  },
  {
   "cell_type": "code",
   "execution_count": 126,
   "metadata": {},
   "outputs": [
    {
     "data": {
      "text/plain": [
       "3.0"
      ]
     },
     "execution_count": 126,
     "metadata": {},
     "output_type": "execute_result"
    }
   ],
   "source": [
    "12 / 4"
   ]
  },
  {
   "cell_type": "markdown",
   "metadata": {},
   "source": [
    "#### `Modulo`"
   ]
  },
  {
   "cell_type": "markdown",
   "metadata": {},
   "source": [
    "> Mengembalikan sisa bagi"
   ]
  },
  {
   "cell_type": "code",
   "execution_count": 1,
   "metadata": {},
   "outputs": [
    {
     "data": {
      "text/plain": [
       "1"
      ]
     },
     "execution_count": 1,
     "metadata": {},
     "output_type": "execute_result"
    }
   ],
   "source": [
    "13 % 3"
   ]
  },
  {
   "cell_type": "code",
   "execution_count": 2,
   "metadata": {},
   "outputs": [
    {
     "data": {
      "text/plain": [
       "2"
      ]
     },
     "execution_count": 2,
     "metadata": {},
     "output_type": "execute_result"
    }
   ],
   "source": [
    "100 % 7"
   ]
  },
  {
   "cell_type": "markdown",
   "metadata": {},
   "source": [
    "#### Operasi Bit"
   ]
  },
  {
   "cell_type": "markdown",
   "metadata": {},
   "source": [
    "#### `left shift`"
   ]
  },
  {
   "cell_type": "markdown",
   "metadata": {},
   "source": [
    "> Menggeser `representasi bit/binary` dari operand pertama sebanyak operand kedua `ke kiri.`"
   ]
  },
  {
   "cell_type": "code",
   "execution_count": 4,
   "metadata": {},
   "outputs": [
    {
     "data": {
      "text/plain": [
       "8"
      ]
     },
     "execution_count": 4,
     "metadata": {},
     "output_type": "execute_result"
    }
   ],
   "source": [
    "2 << 2"
   ]
  },
  {
   "cell_type": "markdown",
   "metadata": {},
   "source": [
    ">\n",
    "* 2 direpresentasikan sebagai 10 dalam binary.\n",
    "* Geser ke kiri sebanyak 2x, menjadi 1000 (tambahkan 0 di belakangnya)."
   ]
  },
  {
   "cell_type": "markdown",
   "metadata": {},
   "source": [
    "#### `right shift`"
   ]
  },
  {
   "cell_type": "markdown",
   "metadata": {},
   "source": [
    "> Menggeser `representasi bit/binary` dari operand pertama sebanyak operand kedua `ke kanan.`"
   ]
  },
  {
   "cell_type": "code",
   "execution_count": 7,
   "metadata": {},
   "outputs": [
    {
     "data": {
      "text/plain": [
       "5"
      ]
     },
     "execution_count": 7,
     "metadata": {},
     "output_type": "execute_result"
    }
   ],
   "source": [
    "11 >> 1"
   ]
  },
  {
   "cell_type": "markdown",
   "metadata": {},
   "source": [
    ">\n",
    "* 11 direpresentasikan sebagai 1011 dalam binary\n",
    "* Geser ke kanan sebanyak 1x, menjadi 101."
   ]
  },
  {
   "cell_type": "markdown",
   "metadata": {},
   "source": [
    "#### `& (bit-wise AND)`"
   ]
  },
  {
   "cell_type": "markdown",
   "metadata": {},
   "source": [
    "> Menjalankan `operasi binary AND` pada representasi operand pertama dan kedua."
   ]
  },
  {
   "cell_type": "code",
   "execution_count": 8,
   "metadata": {},
   "outputs": [
    {
     "data": {
      "text/plain": [
       "1"
      ]
     },
     "execution_count": 8,
     "metadata": {},
     "output_type": "execute_result"
    }
   ],
   "source": [
    "5 & 3"
   ]
  },
  {
   "cell_type": "markdown",
   "metadata": {},
   "source": [
    ">\n",
    "* Representasi binary 5 adalah 101 dan representasi binary 3 adalah 011.\n",
    "* 101 and 011 bernilai 001.\n",
    "* 001 dalam desimal adalah 1."
   ]
  },
  {
   "cell_type": "markdown",
   "metadata": {},
   "source": [
    "#### `| (bit-wise OR)`"
   ]
  },
  {
   "cell_type": "markdown",
   "metadata": {},
   "source": [
    "> Menjalankan operasi `binary OR` pada representasi operand pertama dan kedua."
   ]
  },
  {
   "cell_type": "code",
   "execution_count": 10,
   "metadata": {},
   "outputs": [
    {
     "data": {
      "text/plain": [
       "7"
      ]
     },
     "execution_count": 10,
     "metadata": {},
     "output_type": "execute_result"
    }
   ],
   "source": [
    "5 | 3"
   ]
  },
  {
   "cell_type": "markdown",
   "metadata": {},
   "source": [
    ">\n",
    "* Representasi binary 5 adalah 101 dan representasi binary 3 adalah 011.\n",
    "* 101 or 011 bernilai 111.\n",
    "* 111 dalam desimal adalah 7.\n"
   ]
  },
  {
   "cell_type": "markdown",
   "metadata": {},
   "source": [
    "#### `^ (bit-wise XOR)`"
   ]
  },
  {
   "cell_type": "markdown",
   "metadata": {},
   "source": [
    "> Menjalankan operasi `binary XOR` pada representasi operand pertama dan kedua."
   ]
  },
  {
   "cell_type": "code",
   "execution_count": 12,
   "metadata": {},
   "outputs": [
    {
     "data": {
      "text/plain": [
       "6"
      ]
     },
     "execution_count": 12,
     "metadata": {},
     "output_type": "execute_result"
    }
   ],
   "source": [
    "5 ^ 3"
   ]
  },
  {
   "cell_type": "markdown",
   "metadata": {},
   "source": [
    "> \n",
    "* Representasi binary 5 adalah 101 dan representasi binary 3 adalah 011.\n",
    "* 101 xor 011 bernilai 110.\n",
    "* 110 dalam desimal adalah 6.\n"
   ]
  },
  {
   "cell_type": "markdown",
   "metadata": {},
   "source": [
    "#### `~ (bit-wise invert)`"
   ]
  },
  {
   "cell_type": "code",
   "execution_count": 13,
   "metadata": {},
   "outputs": [
    {
     "data": {
      "text/plain": [
       "-6"
      ]
     },
     "execution_count": 13,
     "metadata": {},
     "output_type": "execute_result"
    }
   ],
   "source": [
    "~ 5"
   ]
  },
  {
   "cell_type": "markdown",
   "metadata": {},
   "source": [
    "> Nilai invert dari x adalah -(x+1)"
   ]
  },
  {
   "cell_type": "markdown",
   "metadata": {},
   "source": [
    "#### Perbandingan"
   ]
  },
  {
   "cell_type": "markdown",
   "metadata": {},
   "source": [
    "#### `< atau operator.lt (less than)`"
   ]
  },
  {
   "cell_type": "code",
   "execution_count": 15,
   "metadata": {},
   "outputs": [
    {
     "data": {
      "text/plain": [
       "False"
      ]
     },
     "execution_count": 15,
     "metadata": {},
     "output_type": "execute_result"
    }
   ],
   "source": [
    "5 < 3"
   ]
  },
  {
   "cell_type": "markdown",
   "metadata": {},
   "source": [
    "#### `> atau operator.gt (greater than)`"
   ]
  },
  {
   "cell_type": "code",
   "execution_count": 16,
   "metadata": {},
   "outputs": [
    {
     "data": {
      "text/plain": [
       "True"
      ]
     },
     "execution_count": 16,
     "metadata": {},
     "output_type": "execute_result"
    }
   ],
   "source": [
    "9 > 7"
   ]
  },
  {
   "cell_type": "markdown",
   "metadata": {},
   "source": [
    "#### `<= atau operator.le (less than or equal to)`"
   ]
  },
  {
   "cell_type": "code",
   "execution_count": 17,
   "metadata": {},
   "outputs": [
    {
     "data": {
      "text/plain": [
       "True"
      ]
     },
     "execution_count": 17,
     "metadata": {},
     "output_type": "execute_result"
    }
   ],
   "source": [
    "x = 3; y = 6\n",
    "x <= y"
   ]
  },
  {
   "cell_type": "code",
   "execution_count": 18,
   "metadata": {},
   "outputs": [
    {
     "data": {
      "text/plain": [
       "False"
      ]
     },
     "execution_count": 18,
     "metadata": {},
     "output_type": "execute_result"
    }
   ],
   "source": [
    "x = 7; y = 6\n",
    "x <= y"
   ]
  },
  {
   "cell_type": "markdown",
   "metadata": {},
   "source": [
    "#### `>= atau operator.ge (greater than or equal to)`"
   ]
  },
  {
   "cell_type": "code",
   "execution_count": 20,
   "metadata": {},
   "outputs": [
    {
     "data": {
      "text/plain": [
       "True"
      ]
     },
     "execution_count": 20,
     "metadata": {},
     "output_type": "execute_result"
    }
   ],
   "source": [
    "x = 4; y = 3\n",
    "x >= y"
   ]
  },
  {
   "cell_type": "markdown",
   "metadata": {},
   "source": [
    "#### `== atau operator.eq (equal to)`"
   ]
  },
  {
   "cell_type": "code",
   "execution_count": 24,
   "metadata": {},
   "outputs": [
    {
     "data": {
      "text/plain": [
       "True"
      ]
     },
     "execution_count": 24,
     "metadata": {},
     "output_type": "execute_result"
    }
   ],
   "source": [
    "x = 7; y = 7\n",
    "x == y"
   ]
  },
  {
   "cell_type": "code",
   "execution_count": 25,
   "metadata": {},
   "outputs": [
    {
     "data": {
      "text/plain": [
       "False"
      ]
     },
     "execution_count": 25,
     "metadata": {},
     "output_type": "execute_result"
    }
   ],
   "source": [
    "'fatimah' == 'Fatimah' "
   ]
  },
  {
   "cell_type": "code",
   "execution_count": 26,
   "metadata": {},
   "outputs": [
    {
     "data": {
      "text/plain": [
       "True"
      ]
     },
     "execution_count": 26,
     "metadata": {},
     "output_type": "execute_result"
    }
   ],
   "source": [
    "'ismail' == 'ismail'"
   ]
  },
  {
   "cell_type": "markdown",
   "metadata": {},
   "source": [
    "#### `!= atau operator.ne (not equal to)`"
   ]
  },
  {
   "cell_type": "code",
   "execution_count": 28,
   "metadata": {},
   "outputs": [
    {
     "data": {
      "text/plain": [
       "True"
      ]
     },
     "execution_count": 28,
     "metadata": {},
     "output_type": "execute_result"
    }
   ],
   "source": [
    "x = 2.4; y = 2.5\n",
    "x != y "
   ]
  },
  {
   "cell_type": "markdown",
   "metadata": {},
   "source": [
    "> Penggunaan `le,` `lt,` `gt,` `ge,` `eq,` `ne`"
   ]
  },
  {
   "cell_type": "code",
   "execution_count": 34,
   "metadata": {},
   "outputs": [
    {
     "name": "stdout",
     "output_type": "stream",
     "text": [
      "a = 1\n",
      "b = 5.0\n"
     ]
    }
   ],
   "source": [
    "from operator import *\n",
    "\n",
    "a = 1\n",
    "b = 5.0\n",
    "print('a =', a)\n",
    "print('b =', b)"
   ]
  },
  {
   "cell_type": "code",
   "execution_count": 38,
   "metadata": {},
   "outputs": [
    {
     "name": "stdout",
     "output_type": "stream",
     "text": [
      "lt(a, b): True\n",
      "le(a, b): True\n",
      "eq(a, b): False\n",
      "ne(a, b): True\n",
      "ge(a, b): False\n",
      "gt(a, b): False\n"
     ]
    }
   ],
   "source": [
    "for func in (lt, le, eq, ne, ge, gt):\n",
    "    print('%s(a, b):' % func.__name__, func(a, b))"
   ]
  },
  {
   "cell_type": "markdown",
   "metadata": {},
   "source": [
    "#### Boolean Operator"
   ]
  },
  {
   "cell_type": "markdown",
   "metadata": {},
   "source": [
    "#### `not (boolean NOT)`"
   ]
  },
  {
   "cell_type": "code",
   "execution_count": 41,
   "metadata": {},
   "outputs": [
    {
     "data": {
      "text/plain": [
       "False"
      ]
     },
     "execution_count": 41,
     "metadata": {},
     "output_type": "execute_result"
    }
   ],
   "source": [
    "x = True\n",
    "not x"
   ]
  },
  {
   "cell_type": "markdown",
   "metadata": {},
   "source": [
    "#### `and (boolean AND)`"
   ]
  },
  {
   "cell_type": "code",
   "execution_count": 42,
   "metadata": {},
   "outputs": [
    {
     "data": {
      "text/plain": [
       "False"
      ]
     },
     "execution_count": 42,
     "metadata": {},
     "output_type": "execute_result"
    }
   ],
   "source": [
    "x = False; y = True\n",
    "x and y"
   ]
  },
  {
   "cell_type": "markdown",
   "metadata": {},
   "source": [
    "> Python `tidak akan mengevaluasi nilai y` karena apapun `nilai y` tidak akan mempengaruhi hasil. Hal ini dinamakan `short-circuit evaluation.`"
   ]
  },
  {
   "cell_type": "markdown",
   "metadata": {},
   "source": [
    "#### `or (boolean OR)`"
   ]
  },
  {
   "cell_type": "code",
   "execution_count": 48,
   "metadata": {},
   "outputs": [
    {
     "data": {
      "text/plain": [
       "True"
      ]
     },
     "execution_count": 48,
     "metadata": {},
     "output_type": "execute_result"
    }
   ],
   "source": [
    "x = True; y = False\n",
    "x or y"
   ]
  },
  {
   "cell_type": "markdown",
   "metadata": {},
   "source": [
    "> Python juga menggunakan `short-circuit evaluation` karena `apapun nilai y` tidak akan mempengaruhi hasil."
   ]
  },
  {
   "cell_type": "markdown",
   "metadata": {},
   "source": [
    "#### Pengecekan Style Guide PEP8 dan Memformat Kode"
   ]
  },
  {
   "cell_type": "markdown",
   "metadata": {},
   "source": [
    "> pip install flake8"
   ]
  },
  {
   "cell_type": "code",
   "execution_count": 57,
   "metadata": {},
   "outputs": [],
   "source": [
    "\"\"\"kalkulator\"\"\"\n",
    "class Kalkulator:\n",
    "    def __init__(self, i):\n",
    "        self.i = i\n",
    "    def tambah(self, i):\n",
    "        return self.i + i\n",
    "    def kurang(self, i):\n",
    "        return self.i - i"
   ]
  },
  {
   "cell_type": "markdown",
   "metadata": {},
   "source": [
    "### Percabangan"
   ]
  },
  {
   "cell_type": "markdown",
   "metadata": {},
   "source": [
    "#### `If`"
   ]
  },
  {
   "cell_type": "markdown",
   "metadata": {},
   "source": [
    "> Di Python, `expression diletakkan setelah if,` dan keputusan ditentukan berdasarkan nilai kebenaran dari expression\n",
    ">> Tip: Python menganggap setiap `nilai non-zero dan non-null sebagai True` dan `nilai zero/null sebagai False.`"
   ]
  },
  {
   "cell_type": "code",
   "execution_count": 2,
   "metadata": {},
   "outputs": [
    {
     "name": "stdout",
     "output_type": "stream",
     "text": [
      "1 Ekpresi bernilai benar\n",
      "100\n"
     ]
    }
   ],
   "source": [
    "var1 = 100\n",
    "if var1:\n",
    "    print(\"1 Ekpresi bernilai benar\")\n",
    "    print(var1)"
   ]
  },
  {
   "cell_type": "code",
   "execution_count": 7,
   "metadata": {},
   "outputs": [],
   "source": [
    "var2 = 0\n",
    "if var2:\n",
    "    print(\"2 Ekpresi bernilai benar\")\n",
    "    print(var2)"
   ]
  },
  {
   "cell_type": "markdown",
   "metadata": {},
   "source": [
    "> Kita dapat menyingkat penulisan statement yang akan dieksekusi jika ia terwakili dalam 1 baris."
   ]
  },
  {
   "cell_type": "code",
   "execution_count": 9,
   "metadata": {},
   "outputs": [
    {
     "name": "stdout",
     "output_type": "stream",
     "text": [
      "50\n"
     ]
    }
   ],
   "source": [
    "var3 = 50\n",
    "if var3: print(var3)"
   ]
  },
  {
   "cell_type": "markdown",
   "metadata": {},
   "source": [
    "#### `Else`"
   ]
  },
  {
   "cell_type": "markdown",
   "metadata": {},
   "source": [
    "> Statement Else dapat dikombinasikan dengan IF Statement, sebagai jalan keluar saat kondisi / hasil evaluasi bernilai False. `Else bersifat opsional dan tunggal.`"
   ]
  },
  {
   "cell_type": "markdown",
   "metadata": {},
   "source": [
    "> Menentukan Diskon"
   ]
  },
  {
   "cell_type": "code",
   "execution_count": 11,
   "metadata": {},
   "outputs": [
    {
     "name": "stdin",
     "output_type": "stream",
     "text": [
      "Masukkan harga:  700\n"
     ]
    },
    {
     "name": "stdout",
     "output_type": "stream",
     "text": [
      "Diskon : 35.0\n",
      "Bayar :  665.0\n"
     ]
    }
   ],
   "source": [
    "harga = int(input(\"Masukkan harga: \"))\n",
    "if harga < 1000:\n",
    "    diskon = harga * 0.05\n",
    "    print(\"Diskon :\", diskon)\n",
    "else:\n",
    "    diskon = harga = harga * 0.10\n",
    "    print(\"Diskon : \", diskon)\n",
    "print(\"Bayar : \", harga - diskon)"
   ]
  },
  {
   "cell_type": "markdown",
   "metadata": {},
   "source": [
    "> Cek bilangan ganjil-genap"
   ]
  },
  {
   "cell_type": "code",
   "execution_count": 14,
   "metadata": {},
   "outputs": [
    {
     "name": "stdout",
     "output_type": "stream",
     "text": [
      "Bilangan 8 adalah genap\n"
     ]
    }
   ],
   "source": [
    "a = 8\n",
    "if a % 2 == 0:\n",
    "    print(\"Bilangan {} adalah genap\".format(a))\n",
    "else:\n",
    "    print(\"Bilangan {} adalah ganjil\".format(a))"
   ]
  },
  {
   "cell_type": "markdown",
   "metadata": {},
   "source": [
    "#### `Elif`"
   ]
  },
  {
   "cell_type": "markdown",
   "metadata": {},
   "source": [
    "> `Elif` adalah kependekan dari `else if,` dan merupakan alternatif untuk if bertingkat atau switch/case. Sebuah IF Statement dapat diikuti satu atau lebih statement elif (opsional & tidak dibatasi)."
   ]
  },
  {
   "cell_type": "code",
   "execution_count": 18,
   "metadata": {},
   "outputs": [
    {
     "name": "stdin",
     "output_type": "stream",
     "text": [
      "Masukkan harga:  9000\n"
     ]
    },
    {
     "name": "stdout",
     "output_type": "stream",
     "text": [
      "Diskon 1350.0\n",
      "Bayar : 7650.0\n"
     ]
    }
   ],
   "source": [
    "harga = int(input(\"Masukkan harga: \"))\n",
    "if harga < 1000:\n",
    "    diskon = harga * 0.05\n",
    "    print(\"Diskon :\", diskon)\n",
    "elif harga < 5000:\n",
    "    diskon = harga = harga * 0.10\n",
    "    print(\"Diskon :\", diskon)\n",
    "else:\n",
    "    diskon = harga * 0.15\n",
    "    print(\"Diskon\", diskon)\n",
    "print(\"Bayar :\", harga - diskon)"
   ]
  },
  {
   "cell_type": "code",
   "execution_count": 21,
   "metadata": {},
   "outputs": [
    {
     "name": "stdout",
     "output_type": "stream",
     "text": [
      "Bilangan 0 adalah nol\n"
     ]
    }
   ],
   "source": [
    "a = 0\n",
    "if a > 0:\n",
    "    print(\"Bilangan {} adalah positif\".format(a))\n",
    "elif a < 0:\n",
    "    print(\"Bilangan {} adalah negatif\".format(a))\n",
    "else:\n",
    "    print(\"Bilangan {} adalah nol\".format(a))"
   ]
  },
  {
   "cell_type": "markdown",
   "metadata": {},
   "source": [
    "#### Ternary Operators"
   ]
  },
  {
   "cell_type": "markdown",
   "metadata": {},
   "source": [
    "> Ternary operator lebih dikenal sebagai `conditional expressions` pada Python. Operator menentukan sesuatu berdasarkan kondisi True atau False. Jika statement atau klausa if cukup sederhana, maka `ternary Operators` akan sangat membantu."
   ]
  },
  {
   "cell_type": "code",
   "execution_count": 22,
   "metadata": {},
   "outputs": [
    {
     "name": "stdout",
     "output_type": "stream",
     "text": [
      "2\n"
     ]
    }
   ],
   "source": [
    "kondisi = True\n",
    "print(2 if kondisi else 1 / 0)"
   ]
  },
  {
   "cell_type": "markdown",
   "metadata": {},
   "source": [
    "#### ShortHand Ternary"
   ]
  },
  {
   "cell_type": "markdown",
   "metadata": {},
   "source": [
    "> `Shorthand ternary` tag yang mungkin membantu Kita untuk memeriksa kode/hasil dari sebuah fungsi dan memastikan outputnya tidak menyebabkan error (atau minimal memberikan informasi relevan saat error):"
   ]
  },
  {
   "cell_type": "code",
   "execution_count": 25,
   "metadata": {},
   "outputs": [
    {
     "name": "stdout",
     "output_type": "stream",
     "text": [
      "Tidak ada data\n"
     ]
    }
   ],
   "source": [
    "output = None\n",
    "pesan = output or \"Tidak ada data\"\n",
    "print(pesan)"
   ]
  },
  {
   "cell_type": "markdown",
   "metadata": {},
   "source": [
    "#### `For`"
   ]
  },
  {
   "cell_type": "markdown",
   "metadata": {},
   "source": [
    "> Python juga memiliki fungsi for. Bedanya di Python, For tidak hanya untuk perulangan dengan jumlah finite (terbatas), melainkan lebih ke fungsi yang dapat melakukan perulangan pada setiap jenis variabel berupa kumpulan atau urutan"
   ]
  },
  {
   "cell_type": "code",
   "execution_count": 28,
   "metadata": {},
   "outputs": [
    {
     "name": "stdout",
     "output_type": "stream",
     "text": [
      "Ejaan Kata: P\n",
      "Ejaan Kata: e\n",
      "Ejaan Kata: n\n",
      "Ejaan Kata: y\n",
      "Ejaan Kata:  \n",
      "Ejaan Kata: I\n",
      "Ejaan Kata: s\n",
      "Ejaan Kata: m\n",
      "Ejaan Kata: a\n",
      "Ejaan Kata: i\n",
      "Ejaan Kata: l\n"
     ]
    }
   ],
   "source": [
    "for kata in \"Peny Ismail\":\n",
    "    print('Ejaan Kata: {}'.format(kata))"
   ]
  },
  {
   "cell_type": "code",
   "execution_count": 36,
   "metadata": {},
   "outputs": [
    {
     "name": "stdout",
     "output_type": "stream",
     "text": [
      "Ejaan Buah: ['pisang', 'anggur', 'apel']\n",
      "Ejaan Buah: ['pisang', 'anggur', 'apel']\n",
      "Ejaan Buah: ['pisang', 'anggur', 'apel']\n"
     ]
    }
   ],
   "source": [
    "buah = ['pisang', 'anggur', 'apel']\n",
    "for b in buah:\n",
    "    print('Ejaan Buah: {}'.format(buah))"
   ]
  },
  {
   "cell_type": "markdown",
   "metadata": {},
   "source": [
    "> Melakukan perulangan berdasarkan indeks atau range "
   ]
  },
  {
   "cell_type": "code",
   "execution_count": 37,
   "metadata": {},
   "outputs": [
    {
     "name": "stdout",
     "output_type": "stream",
     "text": [
      "Ejaan Buah: pisang\n",
      "Ejaan Buah: anggur\n",
      "Ejaan Buah: apel\n"
     ]
    }
   ],
   "source": [
    "buah = ['pisang', 'anggur', 'apel']\n",
    "for index in range(len(buah)):\n",
    "    print('Ejaan Buah: {}'.format(buah[index]))"
   ]
  },
  {
   "cell_type": "markdown",
   "metadata": {},
   "source": [
    "#### `While`"
   ]
  },
  {
   "cell_type": "markdown",
   "metadata": {},
   "source": [
    "> `While` pada bahasa Python digunakan untuk `mengeksekusi statement selama kondisi yang diberikan terpenuhi (True).` Saat kondisi menjadi `False,` program akan melanjutkan ke baris setelah blok statement."
   ]
  },
  {
   "cell_type": "code",
   "execution_count": 38,
   "metadata": {},
   "outputs": [
    {
     "name": "stdout",
     "output_type": "stream",
     "text": [
      "Angka : 0\n",
      "Angka : 1\n",
      "Angka : 2\n",
      "Angka : 3\n",
      "Angka : 4\n"
     ]
    }
   ],
   "source": [
    "angka = 0\n",
    "while(angka < 5):\n",
    "    print('Angka : {}'.format(angka))\n",
    "    angka = angka + 1"
   ]
  },
  {
   "cell_type": "markdown",
   "metadata": {},
   "source": [
    "> Eksekusi statement while mungkin bersifat `infinit / infinite loop` saat sebuah kondisi `tidak pernah bernilai False`"
   ]
  },
  {
   "cell_type": "code",
   "execution_count": null,
   "metadata": {},
   "outputs": [
    {
     "name": "stdin",
     "output_type": "stream",
     "text": [
      "Masukkan angka:  100\n"
     ]
    },
    {
     "name": "stdout",
     "output_type": "stream",
     "text": [
      "Angka yang dimasukkan: 100\n"
     ]
    }
   ],
   "source": [
    "var = 1\n",
    "while var == 1:\n",
    "    nomer = input(\"Masukkan angka: \")\n",
    "    print(\"Angka yang dimasukkan: {}\".format(nomer))"
   ]
  },
  {
   "cell_type": "code",
   "execution_count": null,
   "metadata": {},
   "outputs": [
    {
     "name": "stdin",
     "output_type": "stream",
     "text": [
      "Masukkan angka:  99\n"
     ]
    },
    {
     "name": "stdout",
     "output_type": "stream",
     "text": [
      "Angka masuk: 99\n"
     ]
    },
    {
     "name": "stdin",
     "output_type": "stream",
     "text": [
      "Masukkan angka:  Kode ini tidak akan pernah bernilai False karena nilai var tidak pernah berubah\n"
     ]
    },
    {
     "name": "stdout",
     "output_type": "stream",
     "text": [
      "Angka masuk: Kode ini tidak akan pernah bernilai False karena nilai var tidak pernah berubah\n"
     ]
    }
   ],
   "source": [
    "while True:\n",
    "    angka = input(\"Masukkan angka: \")\n",
    "    print(\"Angka masuk: {}\".format(angka))"
   ]
  },
  {
   "cell_type": "markdown",
   "metadata": {},
   "source": [
    "> Kita juga dapat menyingkat penulisan `blok statement While` jika statement Kita cukup terwakili oleh satu baris."
   ]
  },
  {
   "cell_type": "code",
   "execution_count": null,
   "metadata": {},
   "outputs": [],
   "source": [
    "while (var): do_something()"
   ]
  },
  {
   "cell_type": "markdown",
   "metadata": {},
   "source": [
    "#### Perulangan Bertingkat"
   ]
  },
  {
   "cell_type": "code",
   "execution_count": 1,
   "metadata": {},
   "outputs": [
    {
     "name": "stdout",
     "output_type": "stream",
     "text": [
      "*******\n",
      "******\n",
      "*****\n",
      "****\n",
      "***\n",
      "**\n",
      "*\n"
     ]
    }
   ],
   "source": [
    "for i in range(0, 7):\n",
    "    for j in range(0, 7 - i):\n",
    "        print(\"*\", end=\"\")\n",
    "    print()"
   ]
  },
  {
   "cell_type": "markdown",
   "metadata": {},
   "source": [
    "#### `Break`"
   ]
  },
  {
   "cell_type": "markdown",
   "metadata": {},
   "source": [
    "> Pernyataan break menghentikan perulangan kemudian keluar, dilanjutkan dengan mengeksekusi pernyataan (statement) setelah blok perulangan. Salah satu penggunaannya yang paling sering adalah sebuah kondisi eksternal yang membutuhkan program untuk keluar dari perulangan"
   ]
  },
  {
   "cell_type": "code",
   "execution_count": 3,
   "metadata": {},
   "outputs": [
    {
     "name": "stdout",
     "output_type": "stream",
     "text": [
      "Ejaan Kata: F\n",
      "Ejaan Kata: a\n",
      "Ejaan Kata: t\n",
      "Ejaan Kata: i\n",
      "Ejaan Kata: m\n",
      "Ejaan Kata: a\n"
     ]
    }
   ],
   "source": [
    "for kata in \"Fatimah\":\n",
    "    if kata == 'h':\n",
    "        break\n",
    "    print(\"Ejaan Kata: {}\".format(kata))"
   ]
  },
  {
   "cell_type": "code",
   "execution_count": 6,
   "metadata": {},
   "outputs": [
    {
     "name": "stdout",
     "output_type": "stream",
     "text": [
      "Angka: 10\n",
      "Angka: 9\n",
      "Angka: 8\n",
      "Angka: 7\n",
      "Angka: 6\n",
      "Angka: 5\n",
      "Angka: 4\n"
     ]
    }
   ],
   "source": [
    "var = 10\n",
    "while var > 0:\n",
    "    print(\"Angka: {}\".format(var))\n",
    "    var = var - 1\n",
    "    if var == 3:\n",
    "        break"
   ]
  },
  {
   "cell_type": "markdown",
   "metadata": {},
   "source": [
    "#### `Continue`"
   ]
  },
  {
   "cell_type": "markdown",
   "metadata": {},
   "source": [
    "> Pernyataan continue akan membuat iterasi saat ini berhenti, kemudian melanjutkan ke iterasi berikutnya, mengabaikan pernyataan (statement) yang berada antara continue hingga akhir blok perulangan."
   ]
  },
  {
   "cell_type": "code",
   "execution_count": 7,
   "metadata": {},
   "outputs": [
    {
     "name": "stdout",
     "output_type": "stream",
     "text": [
      "Ejaan Kata: I\n",
      "Ejaan Kata: d\n",
      "Ejaan Kata: o\n",
      "Ejaan Kata: e\n",
      "Ejaan Kata: s\n",
      "Ejaan Kata: i\n",
      "Ejaan Kata: a\n"
     ]
    }
   ],
   "source": [
    "for kata in \"Indonesia\":\n",
    "    if kata == 'n':\n",
    "        continue\n",
    "    print(\"Ejaan Kata: {}\".format(kata))"
   ]
  },
  {
   "cell_type": "code",
   "execution_count": 8,
   "metadata": {},
   "outputs": [
    {
     "name": "stdout",
     "output_type": "stream",
     "text": [
      "Angka positif: 1\n",
      "Angka positif: 2\n",
      "Angka positif: 3\n"
     ]
    }
   ],
   "source": [
    "for a in [0, 1, -1, 2, -2, 3, -3]:\n",
    "    if a <=0:\n",
    "        continue\n",
    "    print(\"Angka positif: {}\".format(a))"
   ]
  },
  {
   "cell_type": "code",
   "execution_count": 13,
   "metadata": {},
   "outputs": [
    {
     "name": "stdout",
     "output_type": "stream",
     "text": [
      "Variabel: 6\n",
      "Variabel: 4\n",
      "Variabel: 3\n",
      "Variabel: 2\n",
      "Variabel: 1\n",
      "Variabel: 0\n"
     ]
    }
   ],
   "source": [
    "var = 7\n",
    "while var > 0:\n",
    "    var = var - 1\n",
    "    if var == 5:\n",
    "        continue\n",
    "    print(\"Variabel: {}\".format(var))"
   ]
  },
  {
   "cell_type": "markdown",
   "metadata": {},
   "source": [
    "> `Else setelah For`\n",
    "Pada Python juga dikenal fungsi else setelah for. Fungsinya diutamakan pada perulangan yang bersifat pencarian - untuk memberikan jalan keluar program saat pencarian tidak ditemukan.\n"
   ]
  },
  {
   "cell_type": "markdown",
   "metadata": {},
   "source": [
    "> Struktur Umum"
   ]
  },
  {
   "cell_type": "code",
   "execution_count": null,
   "metadata": {},
   "outputs": [],
   "source": [
    "for item in container:\n",
    "    if search_something(item):\n",
    "        # Ditemukan\n",
    "        process(item)\n",
    "        break\n",
    "else:\n",
    "        # Tidak ditemukan\n",
    "        not_found_in_container()"
   ]
  },
  {
   "cell_type": "code",
   "execution_count": null,
   "metadata": {},
   "outputs": [],
   "source": [
    "if any(something_about(thing) for each thing in container):\n",
    "    do_something(that_thing)\n",
    "else:\n",
    "    no_such_thing()"
   ]
  },
  {
   "cell_type": "markdown",
   "metadata": {},
   "source": [
    "> Pencarian faktor dari setiap bilangan antara 2 s/d 9"
   ]
  },
  {
   "cell_type": "code",
   "execution_count": 19,
   "metadata": {},
   "outputs": [
    {
     "name": "stdout",
     "output_type": "stream",
     "text": [
      "4 equals 2 * 2.0\n",
      "6 equals 2 * 3.0\n",
      "8 equals 2 * 4.0\n",
      "9 equals 3 * 3.0\n"
     ]
    }
   ],
   "source": [
    "for n in range(2, 10):\n",
    "    for x in range(2, n):\n",
    "        if n % x == 0:\n",
    "            print(n, \"equals\", x, \"*\", n/x)\n",
    "            break"
   ]
  },
  {
   "cell_type": "markdown",
   "metadata": {},
   "source": [
    "> Menambah keterangan bilangan prima "
   ]
  },
  {
   "cell_type": "code",
   "execution_count": 20,
   "metadata": {},
   "outputs": [
    {
     "name": "stdout",
     "output_type": "stream",
     "text": [
      "2 Adalah bilangan prima\n",
      "3 Adalah bilangan prima\n",
      "4 equals 2 * 2.0\n",
      "5 Adalah bilangan prima\n",
      "6 equals 2 * 3.0\n",
      "7 Adalah bilangan prima\n",
      "8 equals 2 * 4.0\n",
      "9 equals 3 * 3.0\n"
     ]
    }
   ],
   "source": [
    "for n in range(2, 10):\n",
    "    for x in range(2, n):\n",
    "        if n % x == 0:\n",
    "            print(n, \"equals\", x, \"*\", n/x)\n",
    "            break\n",
    "    else:\n",
    "        print(n, \"Adalah bilangan prima\")"
   ]
  },
  {
   "cell_type": "markdown",
   "metadata": {},
   "source": [
    "> `Else setelah While`\n",
    "Blok statement else akan selalu dieksekusi saat kondisi pada while menjadi salah. "
   ]
  },
  {
   "cell_type": "code",
   "execution_count": 21,
   "metadata": {},
   "outputs": [
    {
     "name": "stdout",
     "output_type": "stream",
     "text": [
      "4\n",
      "3\n"
     ]
    }
   ],
   "source": [
    "n = 5\n",
    "while n > 0:\n",
    "    n = n -1\n",
    "    if n == 2:\n",
    "        break\n",
    "    print(n)\n",
    "else:\n",
    "    print(\"Perulangan berakhir\")"
   ]
  },
  {
   "cell_type": "markdown",
   "metadata": {},
   "source": [
    "#### `Pass`"
   ]
  },
  {
   "cell_type": "markdown",
   "metadata": {},
   "source": [
    "> Pass statement adalah operasi bersifat Null (kosong), tidak ada yang terjadi saat ia dipanggil. "
   ]
  },
  {
   "cell_type": "code",
   "execution_count": 24,
   "metadata": {},
   "outputs": [
    {
     "name": "stdout",
     "output_type": "stream",
     "text": [
      "Ejaan Kata: W\n",
      "Pass block\n",
      "Ejaan Kata: a\n",
      "Ejaan Kata: r\n",
      "Pass block\n",
      "Ejaan Kata: a\n",
      "Ejaan Kata: s\n"
     ]
    }
   ],
   "source": [
    "for kata in \"Waras\":\n",
    "    if kata == 'a':\n",
    "        pass\n",
    "        print(\"Pass block\")\n",
    "    print(\"Ejaan Kata: {}\".format(kata))"
   ]
  },
  {
   "cell_type": "code",
   "execution_count": 29,
   "metadata": {},
   "outputs": [
    {
     "name": "stdout",
     "output_type": "stream",
     "text": [
      "Huruf besar: S\n",
      "Huruf besar: E\n",
      "Huruf kecil: h\n",
      "Huruf kecil: a\n",
      "Huruf kecil: t\n"
     ]
    }
   ],
   "source": [
    "for kata in \"SEhat\":\n",
    "    if kata.isupper():\n",
    "        pass\n",
    "        print(\"Huruf besar: {}\".format(kata))\n",
    "    else:\n",
    "        print(\"Huruf kecil: {}\".format(kata))"
   ]
  },
  {
   "cell_type": "markdown",
   "metadata": {},
   "source": [
    "> Kita dapat membaca bahwa program gagal. Saat program mengalami `kegagalan atau exception,` ia akan langsung keluar. "
   ]
  },
  {
   "cell_type": "code",
   "execution_count": 33,
   "metadata": {},
   "outputs": [
    {
     "name": "stdin",
     "output_type": "stream",
     "text": [
      "Masukkan integer (exit untuk berakhir) 6\n"
     ]
    },
    {
     "name": "stdout",
     "output_type": "stream",
     "text": [
      "Integer: 6\n"
     ]
    },
    {
     "name": "stdin",
     "output_type": "stream",
     "text": [
      "Masukkan integer (exit untuk berakhir) 9\n"
     ]
    },
    {
     "name": "stdout",
     "output_type": "stream",
     "text": [
      "Integer: 9\n"
     ]
    },
    {
     "name": "stdin",
     "output_type": "stream",
     "text": [
      "Masukkan integer (exit untuk berakhir) a\n"
     ]
    },
    {
     "name": "stdout",
     "output_type": "stream",
     "text": [
      "error: <class 'ValueError'>\n"
     ]
    },
    {
     "name": "stdin",
     "output_type": "stream",
     "text": [
      "Masukkan integer (exit untuk berakhir) exit\n"
     ]
    }
   ],
   "source": [
    "import sys\n",
    "data = ''\n",
    "while(data != 'exit'):\n",
    "    try:\n",
    "        data = input('Masukkan integer (exit untuk berakhir)')\n",
    "        print('Integer: {}'.format(int(data)))\n",
    "    except:\n",
    "        if data == 'exit':\n",
    "            pass\n",
    "        else:\n",
    "            print('error: {}'.format(sys.exc_info()[0]))     "
   ]
  },
  {
   "cell_type": "markdown",
   "metadata": {},
   "source": [
    "> List Comprehension (membuat list dengan inline loop dan if). Ada kalanya Kita perlu untuk membuat sebuah list baru dari dengan sebuah operasi dari list sebelumnya. "
   ]
  },
  {
   "cell_type": "code",
   "execution_count": 34,
   "metadata": {},
   "outputs": [
    {
     "name": "stdout",
     "output_type": "stream",
     "text": [
      "[1, 4, 9, 16, 25]\n"
     ]
    }
   ],
   "source": [
    "# Cara 1\n",
    "angka = [1, 2, 3, 4, 5]\n",
    "s = []\n",
    "for n in angka:\n",
    "    s.append(n**2)\n",
    "print(s)"
   ]
  },
  {
   "cell_type": "code",
   "execution_count": 35,
   "metadata": {},
   "outputs": [
    {
     "name": "stdout",
     "output_type": "stream",
     "text": [
      "[1, 4, 9, 16, 25]\n"
     ]
    }
   ],
   "source": [
    "# Cara 2\n",
    "angka = [1, 2, 3, 4, 5]\n",
    "s = [n**2 for n in angka]\n",
    "print(s)"
   ]
  },
  {
   "cell_type": "markdown",
   "metadata": {},
   "source": [
    "> Menemukan bilangan yang ada pada 2 list"
   ]
  },
  {
   "cell_type": "code",
   "execution_count": 36,
   "metadata": {},
   "outputs": [
    {
     "name": "stdout",
     "output_type": "stream",
     "text": [
      "[2, 4, 5]\n"
     ]
    }
   ],
   "source": [
    "# Cara 1\n",
    "list_a = [1, 2, 3, 4, 5]\n",
    "list_b = [2, 4, 5]\n",
    "c = []\n",
    "for a in list_a:\n",
    "    for b in list_b:\n",
    "        if a == b:\n",
    "            c.append(a)\n",
    "print(c)"
   ]
  },
  {
   "cell_type": "code",
   "execution_count": 41,
   "metadata": {},
   "outputs": [
    {
     "name": "stdout",
     "output_type": "stream",
     "text": [
      "[2, 4, 5]\n"
     ]
    }
   ],
   "source": [
    "# Cara 2 \n",
    "# Implementasi dengan list comprehension\n",
    "list_a = [1, 2, 3, 4, 5]\n",
    "list_b = [2, 4, 5]\n",
    "c = [a for a in list_a for b in list_b if a == b]\n",
    "print(c)"
   ]
  },
  {
   "cell_type": "markdown",
   "metadata": {},
   "source": [
    "> Mengecilkan huruf di python"
   ]
  },
  {
   "cell_type": "code",
   "execution_count": 44,
   "metadata": {},
   "outputs": [
    {
     "name": "stdout",
     "output_type": "stream",
     "text": [
      "List awal :  ['SElamat', 'RIndu', 'SEMangat', 'JUJUR']\n",
      "List kecil :  ['selamat', 'rindu', 'semangat', 'jujur']\n"
     ]
    }
   ],
   "source": [
    "list = [\"SElamat\", \"RIndu\", \"SEMangat\", \"JUJUR\"]\n",
    "kecil = [_.lower() for _ in list]\n",
    "print(\"List awal : \", list)\n",
    "print(\"List kecil : \", kecil)"
   ]
  },
  {
   "cell_type": "code",
   "execution_count": 45,
   "metadata": {},
   "outputs": [
    {
     "name": "stdout",
     "output_type": "stream",
     "text": [
      "[[1, 1], [9, 27], [25, 125], [49, 343], [81, 729]]\n"
     ]
    }
   ],
   "source": [
    "a1 = range(1, 10, 2)\n",
    "x = [[a**2, a**3] for a in a1]\n",
    "print(x)"
   ]
  },
  {
   "cell_type": "markdown",
   "metadata": {},
   "source": [
    "> Kode tersebut menggunakan list comprehension untuk menghasilkan `nilai kuadrat dan kubik dari isi a1.` a1 sendiri berisi `bilangan ganjil di bawah 10 (dari 1 sampai 9).` `comprehension` untuk menghasilkan `nilai kuadrat dan kubik dari isi a1.`"
   ]
  },
  {
   "cell_type": "markdown",
   "metadata": {},
   "source": [
    "<center><img src=\"try.jpg\"></center>"
   ]
  },
  {
   "cell_type": "markdown",
   "metadata": {},
   "source": [
    "#### Fungsi"
   ]
  },
  {
   "cell_type": "markdown",
   "metadata": {},
   "source": [
    "> `Fungsi` adalah blok kode yang terorganisasi dengan baik sehingga dapat digunakan `kembali (reusable).` Beberapa syarat umum fungsi adalah modularisasi dan fungsionalitasnya. Jadi sebaiknya fungsi hanya memiliki satu kegunaan spesifik namun dapat digunakan kembali. "
   ]
  },
  {
   "cell_type": "markdown",
   "metadata": {},
   "source": [
    "> Sintaks fungsi pada Python"
   ]
  },
  {
   "cell_type": "code",
   "execution_count": null,
   "metadata": {},
   "outputs": [],
   "source": [
    "def namafungsi(paramater):\n",
    "    \"Fungsi docstring\"\n",
    "    function_suite\n",
    "    return [expression]"
   ]
  },
  {
   "cell_type": "markdown",
   "metadata": {},
   "source": [
    "> Menerima sebuah string sebagai parameter dan mencetaknya"
   ]
  },
  {
   "cell_type": "code",
   "execution_count": 15,
   "metadata": {},
   "outputs": [],
   "source": [
    "# Cara 1\n",
    "def printme(str):\n",
    "    print(str)\n",
    "    return"
   ]
  },
  {
   "cell_type": "code",
   "execution_count": 7,
   "metadata": {},
   "outputs": [],
   "source": [
    "# Cara 2\n",
    "def printme2(str):\n",
    "    print(str)"
   ]
  },
  {
   "cell_type": "markdown",
   "metadata": {},
   "source": [
    "> Memanggil fungsi"
   ]
  },
  {
   "cell_type": "code",
   "execution_count": 8,
   "metadata": {},
   "outputs": [
    {
     "name": "stdout",
     "output_type": "stream",
     "text": [
      "Cara 1\n",
      "Cara 2\n"
     ]
    }
   ],
   "source": [
    "printme(\"Cara 1\")\n",
    "printme2(\"Cara 2\")"
   ]
  },
  {
   "cell_type": "markdown",
   "metadata": {},
   "source": [
    "#### Return"
   ]
  },
  {
   "cell_type": "markdown",
   "metadata": {},
   "source": [
    "> Pernyataan `return [expression]` akan membuat eksekusi program keluar dari fungsi saat itu, sekaligus mengembalikan nilai tertentu. "
   ]
  },
  {
   "cell_type": "code",
   "execution_count": null,
   "metadata": {},
   "outputs": [],
   "source": [
    "return None"
   ]
  },
  {
   "cell_type": "markdown",
   "metadata": {},
   "source": [
    "> Contoh fungsi dengan `return`"
   ]
  },
  {
   "cell_type": "code",
   "execution_count": 4,
   "metadata": {},
   "outputs": [],
   "source": [
    "# Fungsi Penjumlahan\n",
    "def jumlah(arg1, arg2):\n",
    "    total = arg1 + arg2\n",
    "    print(\"Didalam Fungsi: {}\".format(total))\n",
    "    return total"
   ]
  },
  {
   "cell_type": "code",
   "execution_count": 5,
   "metadata": {},
   "outputs": [
    {
     "name": "stdout",
     "output_type": "stream",
     "text": [
      "Didalam Fungsi: 50\n",
      "Hasil fungsi: 50\n"
     ]
    }
   ],
   "source": [
    "# Memanggil Fungsi jumlah\n",
    "total = jumlah(10, 40)\n",
    "print(\"Hasil fungsi: {}\".format(total))"
   ]
  },
  {
   "cell_type": "markdown",
   "metadata": {},
   "source": [
    "> Nilai kembalian dari `sebuah fungsi dapat disimpan dalam sebuah variabel.` Ini yang akan membedakan sebuah fungsi yang mengembalikan nilai dengan sebuah `fungsi yang tidak mengembalikan nilai` (sering disebut sebagai `prosedur`)."
   ]
  },
  {
   "cell_type": "code",
   "execution_count": 6,
   "metadata": {},
   "outputs": [
    {
     "name": "stdout",
     "output_type": "stream",
     "text": [
      "Nilai kuadrat dari 10 adalah 100\n"
     ]
    }
   ],
   "source": [
    "def kuadrat(x):\n",
    "    return x*x\n",
    "a = 10\n",
    "k = kuadrat(a)\n",
    "print(\"Nilai kuadrat dari {} adalah {}\".format(a, k))"
   ]
  },
  {
   "cell_type": "markdown",
   "metadata": {},
   "source": [
    "> Seluruh parameter (argumen) pada bahasa Python bersifat `“passed by reference”.` Artinya saat Kita mengubah sebuah variabel, maka data yang mereferensi padanya juga akan berubah, baik di dalam fungsi, maupun di luar fungsi pemanggil. "
   ]
  },
  {
   "cell_type": "code",
   "execution_count": 7,
   "metadata": {},
   "outputs": [],
   "source": [
    "def gantiaku(listku):\n",
    "    listku.append([1, 2, 3, 4])\n",
    "    print(\"Nilai di dalam fungsi: {}\".format(listku))"
   ]
  },
  {
   "cell_type": "code",
   "execution_count": 9,
   "metadata": {},
   "outputs": [
    {
     "name": "stdout",
     "output_type": "stream",
     "text": [
      "Nilai di dalam fungsi: [10, 20, 30, [1, 2, 3, 4]]\n",
      "Nilai di luar fungsi: [10, 20, 30, [1, 2, 3, 4]]\n"
     ]
    }
   ],
   "source": [
    "listku = [10, 20, 30]\n",
    "gantiaku(listku)\n",
    "print(\"Nilai di luar fungsi: {}\".format(listku))"
   ]
  },
  {
   "cell_type": "markdown",
   "metadata": {},
   "source": [
    "> Argumen ditimpa dalam fungsi:"
   ]
  },
  {
   "cell_type": "code",
   "execution_count": 11,
   "metadata": {},
   "outputs": [],
   "source": [
    "# Definisi fungsi\n",
    "def gantiaku(listku):\n",
    "    \"Variabel mylist berikut hanya dikenali (berlaku) di dalam fungsi\"\n",
    "    listku = ([1, 2, 3, 4])\n",
    "    print(\"Nilai di dalam fungsi: {}\".format(listku))"
   ]
  },
  {
   "cell_type": "code",
   "execution_count": 12,
   "metadata": {},
   "outputs": [
    {
     "name": "stdout",
     "output_type": "stream",
     "text": [
      "Nilai di dalam fungsi: [1, 2, 3, 4]\n",
      "Nilai di luar fungsi: [10, 20, 30]\n"
     ]
    }
   ],
   "source": [
    "# Panggil fungsi gantiaku\n",
    "listku = [10, 20, 30]\n",
    "gantiaku(listku)\n",
    "print(\"Nilai di luar fungsi: {}\".format(listku))"
   ]
  },
  {
   "cell_type": "markdown",
   "metadata": {},
   "source": [
    "#### Argumen Fungsi"
   ]
  },
  {
   "cell_type": "markdown",
   "metadata": {},
   "source": [
    "> Beberapa argumen yang umum digunakan dalam fungsi:\n",
    "* `Required arguments :` Argumen yang wajib disertakan dan disusun secara terurut dalam pemanggilan fungsi.\n",
    "* `Keyword arguments :` Argumen yang ditambahkan dengan menyertakan nama variabel/keywordnya dalam pemanggilan fungsi.\n",
    "* `Default arguments :` Argumen yang bersifat tidak wajib diisi, karena telah memiliki nilai default.\n",
    "* `Variable-length arguments :` Argumen yang bersifat opsional namun dapat disesuaikan banyaknya dan tidak didefinisikan secara spesifik dalam definisi fungsi."
   ]
  },
  {
   "cell_type": "markdown",
   "metadata": {},
   "source": [
    "> Contoh Fungsi dengan Keyword arguments"
   ]
  },
  {
   "cell_type": "code",
   "execution_count": 16,
   "metadata": {},
   "outputs": [
    {
     "name": "stdout",
     "output_type": "stream",
     "text": [
      "Ini String\n"
     ]
    }
   ],
   "source": [
    "printme(str = \"Ini String\")"
   ]
  },
  {
   "cell_type": "markdown",
   "metadata": {},
   "source": [
    "> Jika Kita memanggil fungsi dengan argumen kata kunci (keyword) atau dengan menyebutkan nama variabelnya, Kita tidak wajib meletakkan urutan variabel sesuai dengan urutan saat fungsi didefinisikan. "
   ]
  },
  {
   "cell_type": "code",
   "execution_count": 17,
   "metadata": {},
   "outputs": [
    {
     "name": "stdout",
     "output_type": "stream",
     "text": [
      "Nama:  Fatimah\n",
      "Umur: 5\n"
     ]
    }
   ],
   "source": [
    "def printinfo(nama, umur):\n",
    "    print(\"Nama: \", nama)\n",
    "    print(\"Umur:\", umur)\n",
    "    \n",
    "printinfo(umur = 5, nama=\"Fatimah\")"
   ]
  },
  {
   "cell_type": "markdown",
   "metadata": {},
   "source": [
    "> Sebuah fungsi yang memiliki sejumlah argumen, dapat diatur nilai bawaannya (default), agar pada saat pemanggilan nilainya bisa menjadi opsional untuk diisi."
   ]
  },
  {
   "cell_type": "code",
   "execution_count": 18,
   "metadata": {},
   "outputs": [
    {
     "name": "stdout",
     "output_type": "stream",
     "text": [
      "Nama:  Fatimah\n",
      "Umur: 5\n",
      "Nama:  Ismail\n",
      "Umur: 17\n"
     ]
    }
   ],
   "source": [
    "def printinfo(nama, umur = 17):\n",
    "    print(\"Nama: \", nama)\n",
    "    print(\"Umur:\", umur)\n",
    "    \n",
    "printinfo(umur = 5, nama=\"Fatimah\")\n",
    "printinfo(nama = \"Ismail\")"
   ]
  },
  {
   "cell_type": "markdown",
   "metadata": {},
   "source": [
    "> Contoh Implementasi argument dengan panjang yang `dinamis (variable-length).` Seperti yang telah dijelaskan, sebuah fungsi dapat memiliki argumen posisi juga argumen kata `kunci (keyword).` "
   ]
  },
  {
   "cell_type": "code",
   "execution_count": null,
   "metadata": {},
   "outputs": [],
   "source": [
    "def functionname([formal_args,] *var_args_tuple ):\n",
    "    \"function_docstring\"\n",
    "    function_suite\n",
    "    return [expression]"
   ]
  },
  {
   "cell_type": "code",
   "execution_count": 23,
   "metadata": {},
   "outputs": [],
   "source": [
    "def namafungsi(fix, *args):\n",
    "    print(\"Output: fix {}\".format(fix))\n",
    "    for a in args:\n",
    "        print(\"Argumen posisi {}\".format(a))"
   ]
  },
  {
   "cell_type": "code",
   "execution_count": 24,
   "metadata": {},
   "outputs": [
    {
     "name": "stdout",
     "output_type": "stream",
     "text": [
      "Output: fix 10\n",
      "Output: fix 70\n",
      "Argumen posisi 60\n",
      "Argumen posisi 50\n"
     ]
    }
   ],
   "source": [
    "namafungsi(10)\n",
    "namafungsi(70, 60, 50)"
   ]
  },
  {
   "cell_type": "code",
   "execution_count": 26,
   "metadata": {},
   "outputs": [],
   "source": [
    "def nfungsi(*args, **kwargs):\n",
    "    for a in args:\n",
    "        print(\"Argumen posisi {}\".format(a))\n",
    "    for key, value in kwargs.items():\n",
    "        print(\"Argumen kata kunci {} : {}\".format(key, value))"
   ]
  },
  {
   "cell_type": "code",
   "execution_count": 30,
   "metadata": {},
   "outputs": [
    {
     "name": "stdout",
     "output_type": "stream",
     "text": [
      "Argumen posisi 1\n",
      "Argumen posisi 2\n",
      "Argumen posisi 4\n",
      "Argumen kata kunci i : 7\n",
      "Argumen kata kunci j : 8\n",
      "Argumen kata kunci k : 9\n",
      "Argumen posisi 1\n",
      "Argumen posisi 2\n",
      "Argumen kata kunci j : 8\n",
      "Argumen kata kunci k : 9\n",
      "Argumen posisi 2\n",
      "Argumen posisi 3\n",
      "Argumen kata kunci i : 7\n",
      "Argumen kata kunci j : 8\n"
     ]
    }
   ],
   "source": [
    "nfungsi()\n",
    "nfungsi(1, 2, 4)\n",
    "nfungsi(i = 7, j = 8, k = 9)\n",
    "nfungsi(1, 2, j = 8, k = 9)\n",
    "nfungsi(*(2, 3), **{'i' : 7, 'j' : 8})"
   ]
  },
  {
   "cell_type": "markdown",
   "metadata": {},
   "source": [
    "#### Fungsi Anonim"
   ]
  },
  {
   "cell_type": "markdown",
   "metadata": {},
   "source": [
    "> `Fungsi Anonim (anonymous)` tidak dideklarasikan seperti halnya fungsi pada umumnya dengan kata kunci `def,` melainkan menggunakan `kata kunci (keyword) lambda.` Sebuah fungsi lambda dapat menerima argumen dalam jumlah berapa pun, namun hanya mengembalikan `satu nilai expression.`"
   ]
  },
  {
   "cell_type": "markdown",
   "metadata": {},
   "source": [
    "> `Fungsi Lambda` tidak dapat memuat perintah atau ekspresi lainnya, misalnya `tidak bisa melakukan print.`"
   ]
  },
  {
   "cell_type": "code",
   "execution_count": null,
   "metadata": {},
   "outputs": [],
   "source": [
    "lambda [arg1 [,arg2,.....argn]]:expression"
   ]
  },
  {
   "cell_type": "code",
   "execution_count": 32,
   "metadata": {},
   "outputs": [
    {
     "name": "stdout",
     "output_type": "stream",
     "text": [
      "Nilai total :  90\n",
      "Nilai total :  70\n"
     ]
    }
   ],
   "source": [
    "jumlah = lambda arg1, arg2 : arg1 + arg2;\n",
    "\n",
    "print(\"Nilai total : \", jumlah(60, 30))\n",
    "print(\"Nilai total : \", jumlah(50, 20))"
   ]
  },
  {
   "cell_type": "markdown",
   "metadata": {},
   "source": [
    "#### Variabel"
   ]
  },
  {
   "cell_type": "markdown",
   "metadata": {},
   "source": [
    "> Variabel yang didefinisikan dalam fungsi bersifat lokal (di fungsi tersebut), dan yang didefinisikan di luar fungsi bersifat global. "
   ]
  },
  {
   "cell_type": "code",
   "execution_count": 37,
   "metadata": {},
   "outputs": [],
   "source": [
    "total = 0   #Variabel global\n",
    "# definisi fungsi\n",
    "def jumlah(arg1, arg2):\n",
    "    total = arg1 + arg2\n",
    "    print('Di dalam fungsi: {}'.format(total))\n",
    "    return total"
   ]
  },
  {
   "cell_type": "code",
   "execution_count": 42,
   "metadata": {},
   "outputs": [
    {
     "name": "stdout",
     "output_type": "stream",
     "text": [
      "Di dalam fungsi: 30\n",
      "Di luar fungsi: 30\n"
     ]
    }
   ],
   "source": [
    "total = jumlah(10, 20)\n",
    "print('Di luar fungsi: {}'.format(total))"
   ]
  },
  {
   "cell_type": "markdown",
   "metadata": {},
   "source": [
    "### Menulis Modul"
   ]
  },
  {
   "cell_type": "markdown",
   "metadata": {},
   "source": [
    "> Menuliskan `modul` pada bahasa Python dapat dimulai dengan menuliskan definisi fungsi, kelas, dan variabel yang dapat digunakan kembali pada program lainnya. "
   ]
  },
  {
   "cell_type": "markdown",
   "metadata": {},
   "source": [
    "File `hello.py`"
   ]
  },
  {
   "cell_type": "code",
   "execution_count": null,
   "metadata": {},
   "outputs": [],
   "source": [
    "def pesan():\n",
    "    print(\"Pesan Cinta\")"
   ]
  },
  {
   "cell_type": "markdown",
   "metadata": {},
   "source": [
    "File `main.py`"
   ]
  },
  {
   "cell_type": "code",
   "execution_count": null,
   "metadata": {},
   "outputs": [],
   "source": [
    "import hello\n",
    "hello.pesan()"
   ]
  },
  {
   "cell_type": "markdown",
   "metadata": {},
   "source": [
    "### Pemrograman Berorientasi Objek (OOP) "
   ]
  },
  {
   "cell_type": "markdown",
   "metadata": {},
   "source": [
    "> Kelas atau dalam bahasa Inggris disebut class, merupakan sebuah konsep yang menyediakan sarana untuk menyatukan data dan fungsionalitas secara satu kesatuan. \n",
    ">> `Catatan:`\n",
    "* Kata objek adalah terjemahan bahasa Inggris dari kata object.\n",
    "* Kata metode adalah terjemahan bahasa Inggris dari kata method.\n"
   ]
  },
  {
   "cell_type": "markdown",
   "metadata": {},
   "source": [
    "#### Class"
   ]
  },
  {
   "cell_type": "markdown",
   "metadata": {},
   "source": [
    "> Class merupakan sintaksis di Python yang menyediakan semua fitur-fitur standar dari Pemrograman Berorientasi Objek atau dalam bahasa Inggris disebut dengan `Object Oriented Programming (OOP).`"
   ]
  },
  {
   "cell_type": "code",
   "execution_count": null,
   "metadata": {},
   "outputs": [],
   "source": [
    "class NamaKelas:\n",
    "    pass  # gantikan dengan pernyataan-pernyataan, misal: atribut atau metode"
   ]
  },
  {
   "cell_type": "markdown",
   "metadata": {},
   "source": [
    "> Sebuah kelas sendiri mendukung dua macam operasi:\n",
    "* Mengacu pada atribut\n",
    "* Pembuatan instance atau dalam bahasa Inggris disebut instantiation"
   ]
  },
  {
   "cell_type": "code",
   "execution_count": 76,
   "metadata": {},
   "outputs": [],
   "source": [
    "class Kalkulator:\n",
    "    i = 12345\n",
    "    def f(self):\n",
    "        return \"Apa kabar?\""
   ]
  },
  {
   "cell_type": "code",
   "execution_count": 77,
   "metadata": {},
   "outputs": [
    {
     "data": {
      "text/plain": [
       "12345"
      ]
     },
     "execution_count": 77,
     "metadata": {},
     "output_type": "execute_result"
    }
   ],
   "source": [
    "Kalkulator.i"
   ]
  },
  {
   "cell_type": "code",
   "execution_count": 78,
   "metadata": {},
   "outputs": [],
   "source": [
    "Kalkulator.i = 6789   # Nilai atribut i dalam Kalkulator berubah dari 12345 menjadi 6789"
   ]
  },
  {
   "cell_type": "code",
   "execution_count": 79,
   "metadata": {},
   "outputs": [
    {
     "data": {
      "text/plain": [
       "6789"
      ]
     },
     "execution_count": 79,
     "metadata": {},
     "output_type": "execute_result"
    }
   ],
   "source": [
    "Kalkulator.i"
   ]
  },
  {
   "cell_type": "markdown",
   "metadata": {},
   "source": [
    "#### Objek "
   ]
  },
  {
   "cell_type": "markdown",
   "metadata": {},
   "source": [
    "> object: an instance of a class"
   ]
  },
  {
   "cell_type": "markdown",
   "metadata": {},
   "source": [
    "> Berikut ini adalah contoh membuat instance dari class Kalkulator menghasilkan sebuah objek."
   ]
  },
  {
   "cell_type": "code",
   "execution_count": 54,
   "metadata": {},
   "outputs": [],
   "source": [
    "k = Kalkulator()   # Membuat instance dari kelas jadi objek, kemudian disimpan pada variabel k"
   ]
  },
  {
   "cell_type": "code",
   "execution_count": 55,
   "metadata": {},
   "outputs": [
    {
     "data": {
      "text/plain": [
       "'Apa kabar?'"
      ]
     },
     "execution_count": 55,
     "metadata": {},
     "output_type": "execute_result"
    }
   ],
   "source": [
    "k.f()"
   ]
  },
  {
   "cell_type": "markdown",
   "metadata": {},
   "source": [
    "#### Class’ Constructor"
   ]
  },
  {
   "cell_type": "markdown",
   "metadata": {},
   "source": [
    "> Di Python, fungsi khusus atau metode sebagai constructor ini bernama `__init__` atau biasa diucapkan sebagai `\"double underscore init\".` "
   ]
  },
  {
   "cell_type": "markdown",
   "metadata": {},
   "source": [
    "> Berikut adalah definisi class Kalkulator di atas jika diubah dengan menggunakan constructor."
   ]
  },
  {
   "cell_type": "code",
   "execution_count": 80,
   "metadata": {},
   "outputs": [],
   "source": [
    "class Kalkulator:\n",
    "    def __init__(self):\n",
    "        self.i = 12345\n",
    "    def f(self):\n",
    "        return \"Apa Kabar?\""
   ]
  },
  {
   "cell_type": "markdown",
   "metadata": {},
   "source": [
    "> Pada contoh berikut ini, `constructor memiliki parameter i yang bersifat opsional,` apabila dalam proses instantiation tidak dikirimkan parameter, `secara otomatis i` akan diisi nilai bawaan `12345.`"
   ]
  },
  {
   "cell_type": "code",
   "execution_count": 88,
   "metadata": {},
   "outputs": [],
   "source": [
    "class Kalkulator:\n",
    "    def __init__(self, i = 12345):\n",
    "        self.i = i   # i adalah variabel pada constructor, self.i adalah variabel dari class\n",
    "    def f(self):\n",
    "        return \"Apa Kabar?\""
   ]
  },
  {
   "cell_type": "code",
   "execution_count": 89,
   "metadata": {},
   "outputs": [
    {
     "name": "stdout",
     "output_type": "stream",
     "text": [
      "6789\n"
     ]
    }
   ],
   "source": [
    "k = Kalkulator(i = 6789)\n",
    "print(k.i)"
   ]
  },
  {
   "cell_type": "markdown",
   "metadata": {},
   "source": [
    "#### Metode (Method)"
   ]
  },
  {
   "cell_type": "markdown",
   "metadata": {},
   "source": [
    "> Ada 3 jenis metode\n",
    "* Metode dari objek (object method)\n",
    "* Metode dari class (class method)\n",
    "* Metode secara static (static method)"
   ]
  },
  {
   "cell_type": "markdown",
   "metadata": {},
   "source": [
    "`Metode dari objek`"
   ]
  },
  {
   "cell_type": "code",
   "execution_count": 90,
   "metadata": {},
   "outputs": [
    {
     "data": {
      "text/plain": [
       "'Apa Kabar?'"
      ]
     },
     "execution_count": 90,
     "metadata": {},
     "output_type": "execute_result"
    }
   ],
   "source": [
    "k.f()"
   ]
  },
  {
   "cell_type": "code",
   "execution_count": 91,
   "metadata": {},
   "outputs": [
    {
     "data": {
      "text/plain": [
       "'Apa Kabar?'"
      ]
     },
     "execution_count": 91,
     "metadata": {},
     "output_type": "execute_result"
    }
   ],
   "source": [
    "Kalkulator.f(k)"
   ]
  },
  {
   "cell_type": "markdown",
   "metadata": {},
   "source": [
    "`Metode dari class`"
   ]
  },
  {
   "cell_type": "markdown",
   "metadata": {},
   "source": [
    "> Berdasar contoh yang sama dengan class sebelumnya, berikut adalah metode dari class."
   ]
  },
  {
   "cell_type": "code",
   "execution_count": 106,
   "metadata": {},
   "outputs": [],
   "source": [
    "class Kalkulator:\n",
    "    def f(self):\n",
    "        return 'hello world'\n",
    "    \n",
    "    @classmethod\n",
    "    def tambah_angka(cls, angka1, angka2):\n",
    "        return '{} + {} = {}'.format(angka1, angka2, angka1 + angka2)\n",
    "    \n",
    "    @staticmethod\n",
    "    def kali_angka(angka1, angka2):\n",
    "        return '{} x {} = {}'.format(angka1, angka2, angka1 * angka2)"
   ]
  },
  {
   "cell_type": "code",
   "execution_count": 107,
   "metadata": {},
   "outputs": [
    {
     "data": {
      "text/plain": [
       "'11 + 6 = 17'"
      ]
     },
     "execution_count": 107,
     "metadata": {},
     "output_type": "execute_result"
    }
   ],
   "source": [
    "Kalkulator.tambah_angka(11, 6)"
   ]
  },
  {
   "cell_type": "markdown",
   "metadata": {},
   "source": [
    "`Metode secara static`"
   ]
  },
  {
   "cell_type": "markdown",
   "metadata": {},
   "source": [
    "> `Staticmethod` adalah sebuah fungsi yang mengubah metode menjadi metode statis (static method). Dalam penggunaannya, fungsi ini dijadikan sebagai fungsi decorator `@staticmethod,` kemudian pemanggilannya bisa langsung dari class yang terdefinisi ataupun melalui objek."
   ]
  },
  {
   "cell_type": "code",
   "execution_count": 110,
   "metadata": {},
   "outputs": [
    {
     "name": "stdout",
     "output_type": "stream",
     "text": [
      "3 x 8 = 24\n"
     ]
    }
   ],
   "source": [
    "kali = Kalkulator.kali_angka(3, 8)\n",
    "print(kali)"
   ]
  },
  {
   "cell_type": "code",
   "execution_count": 111,
   "metadata": {},
   "outputs": [
    {
     "name": "stdout",
     "output_type": "stream",
     "text": [
      "2 x 9 = 18\n"
     ]
    }
   ],
   "source": [
    "k = Kalkulator()\n",
    "a = k.kali_angka(2, 9)\n",
    "print(a)"
   ]
  },
  {
   "cell_type": "markdown",
   "metadata": {},
   "source": [
    "#### Mekanisme Pewarisan (Inheritance)"
   ]
  },
  {
   "cell_type": "markdown",
   "metadata": {},
   "source": [
    "> Di Python, mekanisme pewarisan memungkinkan untuk memiliki lebih dari satu kelas dasar (kelas orang tua, yang diwarisi).\n",
    "Referensi: https://docs.python.org/id/3.8/tutorial/classes.html#multiple-inheritance"
   ]
  },
  {
   "cell_type": "code",
   "execution_count": 114,
   "metadata": {},
   "outputs": [],
   "source": [
    "class Kalkulator:\n",
    "    def __init__(self, nilai=0):\n",
    "        self.nilai = nilai\n",
    "        \n",
    "    def tambah_angka(self, angka1, angka2):\n",
    "        self.nilai = angka1 + angka2\n",
    "        if self.nilai > 9:  # kalkulator sederhana hanya memroses sampai 9\n",
    "            print('kalkulator sederhana melebihi batas angka: {}'.format(self.nilai))\n",
    "        return self.nilai"
   ]
  },
  {
   "cell_type": "markdown",
   "metadata": {},
   "source": [
    "> Kemudian kita membuat `class Kali` yang mewarisi class Kalkulator."
   ]
  },
  {
   "cell_type": "code",
   "execution_count": 115,
   "metadata": {},
   "outputs": [],
   "source": [
    "class Kali(Kalkulator):\n",
    "    def kali_angka(self, angka1, angka2):\n",
    "        self.nilai = angka1 * angka2\n",
    "        return self.nilai"
   ]
  },
  {
   "cell_type": "code",
   "execution_count": 116,
   "metadata": {},
   "outputs": [
    {
     "name": "stdout",
     "output_type": "stream",
     "text": [
      "45\n"
     ]
    }
   ],
   "source": [
    "kk = Kali()\n",
    "a = kk.kali_angka(5, 9)\n",
    "print(a)"
   ]
  },
  {
   "cell_type": "code",
   "execution_count": 121,
   "metadata": {},
   "outputs": [
    {
     "name": "stdout",
     "output_type": "stream",
     "text": [
      "kalkulator sederhana melebihi batas angka: 15\n"
     ]
    }
   ],
   "source": [
    "bb = kk.tambah_angka(9, 6)"
   ]
  },
  {
   "cell_type": "markdown",
   "metadata": {},
   "source": [
    "#### (Override) Metode "
   ]
  },
  {
   "cell_type": "code",
   "execution_count": null,
   "metadata": {},
   "outputs": [],
   "source": [
    "class KalkulatorKali(Kalkulator):\n",
    "    def kali_angka(self, angka1, angka2):\n",
    "        self.nilai = angka1 * angka2\n",
    "        return self.nilai\n",
    "    \n",
    "    def tambah_angka(self, angka1, angka2):\n",
    "        self.nilai = angka1 + angka2\n",
    "        return self.nilai"
   ]
  },
  {
   "cell_type": "code",
   "execution_count": 124,
   "metadata": {},
   "outputs": [
    {
     "name": "stdout",
     "output_type": "stream",
     "text": [
      "kalkulator sederhana melebihi batas angka: 11\n",
      "11\n"
     ]
    }
   ],
   "source": [
    "kk = Kali()\n",
    "b = kk.tambah_angka(5, 6)\n",
    "print(b)"
   ]
  },
  {
   "cell_type": "markdown",
   "metadata": {},
   "source": [
    "> Pemanggilan `Metode Kelas Dasar dari Kelas Turunan dengan Sintaksis Super`. Anggaplah `fungsi tambah_angka adalah sebuah fungsi yang rumit,` dimana kita sebaiknya gunakan saja kemampuan yang sudah ada di kelas dasar, kemudian kita hanya ubah sebagian fiturnya saja dengan yang kita inginkan."
   ]
  },
  {
   "cell_type": "code",
   "execution_count": 125,
   "metadata": {},
   "outputs": [],
   "source": [
    "class KalkulatorTambah(Kalkulator):\n",
    "    \"\"\"contoh mewarisi kelas kalkulator sederhana\"\"\"\n",
    "    def tambah_angka(self, angka1, angka2):\n",
    "        if angka1 + angka2 <= 9:  # fitur ini sudah oke di kelas dasar, gunakan yang ada saja\n",
    "            super().tambah_angka(angka1, angka2)  # panggil fungsi dari Kalkulator lalu isi nilai\n",
    "        else:  # ini adalah fitur baru yang ingin diperbaiki dari keterbatasan kelas dasar\n",
    "            self.nilai = angka1 + angka2\n",
    "        return self.nilai"
   ]
  },
  {
   "cell_type": "markdown",
   "metadata": {},
   "source": [
    "> Dalam Python, dimana Kita sebelumnya pernah mempelajari mengenai `duck typing,` maka cukup mendefinisikan saja sebuah class kosong, selanjutnya penamaan item data dapat secara langsung didefinisikan dan diisikan saat sudah instantiation."
   ]
  },
  {
   "cell_type": "code",
   "execution_count": 160,
   "metadata": {},
   "outputs": [],
   "source": [
    "class Pegawai:\n",
    "    pass   # Definisi class kosong\n",
    "\n",
    "dt = Pegawai()   # Membuat Pegawai baru menjadi objek bernama dt\n",
    "dt.nama = \"Peny Ismail\"\n",
    "dt.bagian = \"DATA\"\n",
    "dt.gaji = 999"
   ]
  },
  {
   "cell_type": "code",
   "execution_count": 164,
   "metadata": {},
   "outputs": [
    {
     "data": {
      "text/plain": [
       "__main__.Pegawai"
      ]
     },
     "execution_count": 164,
     "metadata": {},
     "output_type": "execute_result"
    }
   ],
   "source": [
    "Pegawai"
   ]
  },
  {
   "cell_type": "code",
   "execution_count": 165,
   "metadata": {},
   "outputs": [
    {
     "name": "stdout",
     "output_type": "stream",
     "text": [
      "Peny Ismail DATA 999\n"
     ]
    }
   ],
   "source": [
    "print(dt.nama, dt.bagian, dt.gaji)"
   ]
  }
 ],
 "metadata": {
  "kernelspec": {
   "display_name": "Python 3",
   "language": "python",
   "name": "python3"
  },
  "language_info": {
   "codemirror_mode": {
    "name": "ipython",
    "version": 3
   },
   "file_extension": ".py",
   "mimetype": "text/x-python",
   "name": "python",
   "nbconvert_exporter": "python",
   "pygments_lexer": "ipython3",
   "version": "3.7.3"
  }
 },
 "nbformat": 4,
 "nbformat_minor": 2
}
